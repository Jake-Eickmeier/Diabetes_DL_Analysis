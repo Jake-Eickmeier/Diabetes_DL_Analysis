{
 "cells": [
  {
   "cell_type": "markdown",
   "metadata": {},
   "source": [
    "### In this notebook, we'll be taking a look at some data regarding diabetes indicators to see if we can make a deep learning model that accurately predicts an individual's likelihood of being diabetic, and what lifestyle changes would be the most effective for reducing that individual's risk.\n",
    "\n",
    "### **IMPORTANT NOTE**: This project is not intended to serve as medical advice in any way, and instead is simply a means of demonstrating some analysis techniques via deep learning.\n",
    "\n",
    "#### This project will use sklearn, pandas, and numpy to manage/clean/alter the data as necessary, and Tensorflow to build a deep learning model. Matplotlib will be used for some basic plotting, and we'll also throw in some Seaborn graphs later on."
   ]
  },
  {
   "cell_type": "code",
   "execution_count": 1,
   "metadata": {},
   "outputs": [],
   "source": [
    "import numpy as np\n",
    "import pandas as pd\n",
    "import matplotlib.pyplot as plt\n",
    "import tensorflow as tf"
   ]
  },
  {
   "cell_type": "markdown",
   "metadata": {},
   "source": [
    "### First, let's load the data and check some basic metrics to get a better idea of what we're working with and how we should consider approaching the process."
   ]
  },
  {
   "cell_type": "code",
   "execution_count": 2,
   "metadata": {
    "scrolled": true
   },
   "outputs": [
    {
     "data": {
      "text/html": [
       "<div>\n",
       "<style scoped>\n",
       "    .dataframe tbody tr th:only-of-type {\n",
       "        vertical-align: middle;\n",
       "    }\n",
       "\n",
       "    .dataframe tbody tr th {\n",
       "        vertical-align: top;\n",
       "    }\n",
       "\n",
       "    .dataframe thead th {\n",
       "        text-align: right;\n",
       "    }\n",
       "</style>\n",
       "<table border=\"1\" class=\"dataframe\">\n",
       "  <thead>\n",
       "    <tr style=\"text-align: right;\">\n",
       "      <th></th>\n",
       "      <th>Diabetes_012</th>\n",
       "      <th>HighBP</th>\n",
       "      <th>HighChol</th>\n",
       "      <th>CholCheck</th>\n",
       "      <th>BMI</th>\n",
       "      <th>Smoker</th>\n",
       "      <th>Stroke</th>\n",
       "      <th>HeartDiseaseorAttack</th>\n",
       "      <th>PhysActivity</th>\n",
       "      <th>Fruits</th>\n",
       "      <th>...</th>\n",
       "      <th>AnyHealthcare</th>\n",
       "      <th>NoDocbcCost</th>\n",
       "      <th>GenHlth</th>\n",
       "      <th>MentHlth</th>\n",
       "      <th>PhysHlth</th>\n",
       "      <th>DiffWalk</th>\n",
       "      <th>Sex</th>\n",
       "      <th>Age</th>\n",
       "      <th>Education</th>\n",
       "      <th>Income</th>\n",
       "    </tr>\n",
       "  </thead>\n",
       "  <tbody>\n",
       "    <tr>\n",
       "      <th>0</th>\n",
       "      <td>0.0</td>\n",
       "      <td>1.0</td>\n",
       "      <td>1.0</td>\n",
       "      <td>1.0</td>\n",
       "      <td>40.0</td>\n",
       "      <td>1.0</td>\n",
       "      <td>0.0</td>\n",
       "      <td>0.0</td>\n",
       "      <td>0.0</td>\n",
       "      <td>0.0</td>\n",
       "      <td>...</td>\n",
       "      <td>1.0</td>\n",
       "      <td>0.0</td>\n",
       "      <td>5.0</td>\n",
       "      <td>18.0</td>\n",
       "      <td>15.0</td>\n",
       "      <td>1.0</td>\n",
       "      <td>0.0</td>\n",
       "      <td>9.0</td>\n",
       "      <td>4.0</td>\n",
       "      <td>3.0</td>\n",
       "    </tr>\n",
       "    <tr>\n",
       "      <th>1</th>\n",
       "      <td>0.0</td>\n",
       "      <td>0.0</td>\n",
       "      <td>0.0</td>\n",
       "      <td>0.0</td>\n",
       "      <td>25.0</td>\n",
       "      <td>1.0</td>\n",
       "      <td>0.0</td>\n",
       "      <td>0.0</td>\n",
       "      <td>1.0</td>\n",
       "      <td>0.0</td>\n",
       "      <td>...</td>\n",
       "      <td>0.0</td>\n",
       "      <td>1.0</td>\n",
       "      <td>3.0</td>\n",
       "      <td>0.0</td>\n",
       "      <td>0.0</td>\n",
       "      <td>0.0</td>\n",
       "      <td>0.0</td>\n",
       "      <td>7.0</td>\n",
       "      <td>6.0</td>\n",
       "      <td>1.0</td>\n",
       "    </tr>\n",
       "    <tr>\n",
       "      <th>2</th>\n",
       "      <td>0.0</td>\n",
       "      <td>1.0</td>\n",
       "      <td>1.0</td>\n",
       "      <td>1.0</td>\n",
       "      <td>28.0</td>\n",
       "      <td>0.0</td>\n",
       "      <td>0.0</td>\n",
       "      <td>0.0</td>\n",
       "      <td>0.0</td>\n",
       "      <td>1.0</td>\n",
       "      <td>...</td>\n",
       "      <td>1.0</td>\n",
       "      <td>1.0</td>\n",
       "      <td>5.0</td>\n",
       "      <td>30.0</td>\n",
       "      <td>30.0</td>\n",
       "      <td>1.0</td>\n",
       "      <td>0.0</td>\n",
       "      <td>9.0</td>\n",
       "      <td>4.0</td>\n",
       "      <td>8.0</td>\n",
       "    </tr>\n",
       "    <tr>\n",
       "      <th>3</th>\n",
       "      <td>0.0</td>\n",
       "      <td>1.0</td>\n",
       "      <td>0.0</td>\n",
       "      <td>1.0</td>\n",
       "      <td>27.0</td>\n",
       "      <td>0.0</td>\n",
       "      <td>0.0</td>\n",
       "      <td>0.0</td>\n",
       "      <td>1.0</td>\n",
       "      <td>1.0</td>\n",
       "      <td>...</td>\n",
       "      <td>1.0</td>\n",
       "      <td>0.0</td>\n",
       "      <td>2.0</td>\n",
       "      <td>0.0</td>\n",
       "      <td>0.0</td>\n",
       "      <td>0.0</td>\n",
       "      <td>0.0</td>\n",
       "      <td>11.0</td>\n",
       "      <td>3.0</td>\n",
       "      <td>6.0</td>\n",
       "    </tr>\n",
       "    <tr>\n",
       "      <th>4</th>\n",
       "      <td>0.0</td>\n",
       "      <td>1.0</td>\n",
       "      <td>1.0</td>\n",
       "      <td>1.0</td>\n",
       "      <td>24.0</td>\n",
       "      <td>0.0</td>\n",
       "      <td>0.0</td>\n",
       "      <td>0.0</td>\n",
       "      <td>1.0</td>\n",
       "      <td>1.0</td>\n",
       "      <td>...</td>\n",
       "      <td>1.0</td>\n",
       "      <td>0.0</td>\n",
       "      <td>2.0</td>\n",
       "      <td>3.0</td>\n",
       "      <td>0.0</td>\n",
       "      <td>0.0</td>\n",
       "      <td>0.0</td>\n",
       "      <td>11.0</td>\n",
       "      <td>5.0</td>\n",
       "      <td>4.0</td>\n",
       "    </tr>\n",
       "  </tbody>\n",
       "</table>\n",
       "<p>5 rows × 22 columns</p>\n",
       "</div>"
      ],
      "text/plain": [
       "   Diabetes_012  HighBP  HighChol  CholCheck   BMI  Smoker  Stroke  \\\n",
       "0           0.0     1.0       1.0        1.0  40.0     1.0     0.0   \n",
       "1           0.0     0.0       0.0        0.0  25.0     1.0     0.0   \n",
       "2           0.0     1.0       1.0        1.0  28.0     0.0     0.0   \n",
       "3           0.0     1.0       0.0        1.0  27.0     0.0     0.0   \n",
       "4           0.0     1.0       1.0        1.0  24.0     0.0     0.0   \n",
       "\n",
       "   HeartDiseaseorAttack  PhysActivity  Fruits  ...  AnyHealthcare  \\\n",
       "0                   0.0           0.0     0.0  ...            1.0   \n",
       "1                   0.0           1.0     0.0  ...            0.0   \n",
       "2                   0.0           0.0     1.0  ...            1.0   \n",
       "3                   0.0           1.0     1.0  ...            1.0   \n",
       "4                   0.0           1.0     1.0  ...            1.0   \n",
       "\n",
       "   NoDocbcCost  GenHlth  MentHlth  PhysHlth  DiffWalk  Sex   Age  Education  \\\n",
       "0          0.0      5.0      18.0      15.0       1.0  0.0   9.0        4.0   \n",
       "1          1.0      3.0       0.0       0.0       0.0  0.0   7.0        6.0   \n",
       "2          1.0      5.0      30.0      30.0       1.0  0.0   9.0        4.0   \n",
       "3          0.0      2.0       0.0       0.0       0.0  0.0  11.0        3.0   \n",
       "4          0.0      2.0       3.0       0.0       0.0  0.0  11.0        5.0   \n",
       "\n",
       "   Income  \n",
       "0     3.0  \n",
       "1     1.0  \n",
       "2     8.0  \n",
       "3     6.0  \n",
       "4     4.0  \n",
       "\n",
       "[5 rows x 22 columns]"
      ]
     },
     "execution_count": 2,
     "metadata": {},
     "output_type": "execute_result"
    }
   ],
   "source": [
    "df = pd.read_csv(\"data/diabetes_012_health_indicators_BRFSS2015.csv\")\n",
    "df.head()"
   ]
  },
  {
   "cell_type": "markdown",
   "metadata": {},
   "source": [
    "### One thing I notice right away is that there is some disparity in the scale between variables - for example, HighBP is either 0.0 or 1.0 but I can quickly see values between 0.0 and 30.0 for MentHlth. This leads me to believe that scaling the data could be a good idea, but we'll hold off on that until we split the X and y components apart."
   ]
  },
  {
   "cell_type": "markdown",
   "metadata": {},
   "source": [
    "### Knowing the shape of the data will be helpful, as it may help us decide how much of it we should train/test with"
   ]
  },
  {
   "cell_type": "code",
   "execution_count": 3,
   "metadata": {},
   "outputs": [
    {
     "name": "stdout",
     "output_type": "stream",
     "text": [
      "(253680, 22)\n"
     ]
    }
   ],
   "source": [
    "print(df.shape)"
   ]
  },
  {
   "cell_type": "markdown",
   "metadata": {},
   "source": [
    "### 253,680 rows is quite a lot, and we will want to narrow this down quite substantially so that we can train our model quicker (at least until we've found a model we like, at which point we can increase our usage again if we desire). \n",
    "### Before narrowing it down, let's check if the dataset is biased, and if so how biased. The label column \"Diabetes_012\" denotes that there should be three classes, but let's check to be sure."
   ]
  },
  {
   "cell_type": "code",
   "execution_count": 4,
   "metadata": {},
   "outputs": [
    {
     "name": "stdout",
     "output_type": "stream",
     "text": [
      "0.0    213703\n",
      "2.0     35346\n",
      "1.0      4631\n",
      "Name: Diabetes_012, dtype: int64\n"
     ]
    }
   ],
   "source": [
    "print(df[\"Diabetes_012\"].value_counts())"
   ]
  },
  {
   "cell_type": "code",
   "execution_count": 5,
   "metadata": {},
   "outputs": [
    {
     "name": "stdout",
     "output_type": "stream",
     "text": [
      "0.0:  84.24116997792494 %\n",
      "1.0:  1.8255282245348472 %\n",
      "2.0:  13.933301797540206 %\n"
     ]
    }
   ],
   "source": [
    "print(\"0.0: \", ((df[\"Diabetes_012\"].value_counts()[0] / df.shape[0]) * 100), \"%\")\n",
    "print(\"1.0: \", ((df[\"Diabetes_012\"].value_counts()[1] / df.shape[0]) * 100), \"%\")\n",
    "print(\"2.0: \", ((df[\"Diabetes_012\"].value_counts()[2] / df.shape[0]) * 100), \"%\")"
   ]
  },
  {
   "cell_type": "markdown",
   "metadata": {},
   "source": [
    "### This data is very biased!\n",
    "### The dataset info on Kaggle says that a value of 0.0 represents no diabetes, whilst a value of 1.0 represents pre-diabetes or diabetes whilst pregnant, and a value of 2.0 represents diabetes. With that in mind, prediabetes/diabetes whilst pregnant seems to make up a remarkably insignificant portion of the data at ~1.8% representation compared to ~84.2% of non-diabetic and ~13.9% diabetic.\n",
    "\n",
    "### Before leaning into any sort of conceptual analysis on what direction we should head in, let's whip up a quick basic model on the data as-is to see where it's lacking and what we should aim to improve on.\n",
    "\n",
    "### We'll use sklearn to arrange our test/train splits. We'll use 80% of our data for training and the remaining 20% to test with, and for now we won't trim the data just so we have an idea of what the ceiling looks like for the basic model.\n"
   ]
  },
  {
   "cell_type": "code",
   "execution_count": 6,
   "metadata": {},
   "outputs": [],
   "source": [
    "from sklearn.model_selection import train_test_split\n",
    "from sklearn.preprocessing import MinMaxScaler"
   ]
  },
  {
   "cell_type": "code",
   "execution_count": 7,
   "metadata": {},
   "outputs": [],
   "source": [
    "X = df.drop(columns=[\"Diabetes_012\"])\n",
    "\n",
    "y = df[\"Diabetes_012\"]\n",
    "\n",
    "#Now that we've split the data is a good time to apply the MinMax scaler\n",
    "#as we described above. The reason I'm doing it this way is so that I don't\n",
    "#change the labels, as I'm fine with those remaining as they are.\n",
    "#As an additional note, I've chosen to normalize the data instead of standardizing\n",
    "#it (using standard scaler) because I want to retain the flat values in columns\n",
    "#where 0/1 are representing false/true.\n",
    "scaler = MinMaxScaler()\n",
    "X = scaler.fit_transform(X)\n",
    "\n",
    "#Split X and y into test and train splits using sklearn\n",
    "X_train, X_test, y_train, y_test = train_test_split(X, y, test_size=0.20)"
   ]
  },
  {
   "cell_type": "code",
   "execution_count": 8,
   "metadata": {},
   "outputs": [
    {
     "data": {
      "text/plain": [
       "array([1.        , 1.        , 1.        , 0.3255814 , 1.        ,\n",
       "       0.        , 0.        , 0.        , 0.        , 1.        ,\n",
       "       0.        , 1.        , 0.        , 1.        , 0.6       ,\n",
       "       0.5       , 1.        , 0.        , 0.66666667, 0.6       ,\n",
       "       0.28571429])"
      ]
     },
     "execution_count": 8,
     "metadata": {},
     "output_type": "execute_result"
    }
   ],
   "source": [
    "X[0]"
   ]
  },
  {
   "cell_type": "code",
   "execution_count": 9,
   "metadata": {},
   "outputs": [],
   "source": [
    "import tensorflow.keras.models as models\n",
    "import tensorflow.keras.layers as layers\n",
    "import tensorflow.keras.losses as losses\n",
    "import tensorflow.keras.optimizers as optimizers"
   ]
  },
  {
   "cell_type": "code",
   "execution_count": 10,
   "metadata": {},
   "outputs": [],
   "source": [
    "#This basic model will have only one hidden layer, and the nodes within\n",
    "#it will just be the average of the nodes in the input and output layers.\n",
    "basic_model = models.Sequential([\n",
    "        layers.Input(shape=(21,)),\n",
    "        layers.Dense(12, activation='relu'),\n",
    "        layers.Dense(3, activation='softmax')\n",
    "    ])\n",
    "\n",
    "basic_model.compile(\n",
    "    loss=losses.sparse_categorical_crossentropy,\n",
    "    optimizer=optimizers.Adam(0.001),\n",
    "    metrics = ['sparse_categorical_accuracy'],\n",
    ")"
   ]
  },
  {
   "cell_type": "code",
   "execution_count": 11,
   "metadata": {},
   "outputs": [
    {
     "name": "stdout",
     "output_type": "stream",
     "text": [
      "Epoch 1/10\n",
      "6342/6342 [==============================] - 3s 485us/step - loss: 0.4203 - sparse_categorical_accuracy: 0.8436\n",
      "Epoch 2/10\n",
      "6342/6342 [==============================] - 3s 448us/step - loss: 0.4026 - sparse_categorical_accuracy: 0.8463\n",
      "Epoch 3/10\n",
      "6342/6342 [==============================] - 3s 460us/step - loss: 0.3989 - sparse_categorical_accuracy: 0.8472\n",
      "Epoch 4/10\n",
      "6342/6342 [==============================] - 3s 477us/step - loss: 0.3970 - sparse_categorical_accuracy: 0.8485\n",
      "Epoch 5/10\n",
      "6342/6342 [==============================] - 3s 452us/step - loss: 0.3962 - sparse_categorical_accuracy: 0.8490\n",
      "Epoch 6/10\n",
      "6342/6342 [==============================] - 3s 440us/step - loss: 0.3956 - sparse_categorical_accuracy: 0.8490\n",
      "Epoch 7/10\n",
      "6342/6342 [==============================] - 3s 455us/step - loss: 0.3950 - sparse_categorical_accuracy: 0.8492\n",
      "Epoch 8/10\n",
      "6342/6342 [==============================] - 3s 464us/step - loss: 0.3948 - sparse_categorical_accuracy: 0.8491\n",
      "Epoch 9/10\n",
      "6342/6342 [==============================] - 3s 455us/step - loss: 0.3947 - sparse_categorical_accuracy: 0.8495\n",
      "Epoch 10/10\n",
      "6342/6342 [==============================] - 3s 458us/step - loss: 0.3945 - sparse_categorical_accuracy: 0.8492\n"
     ]
    }
   ],
   "source": [
    "basic_log = basic_model.fit(X_train, y_train, epochs=10, verbose=True)"
   ]
  },
  {
   "cell_type": "code",
   "execution_count": 12,
   "metadata": {},
   "outputs": [
    {
     "data": {
      "image/png": "[encoded data removed]",
      "text/plain": [
       "<Figure size 864x360 with 2 Axes>"
      ]
     },
     "metadata": {
      "needs_background": "light"
     },
     "output_type": "display_data"
    }
   ],
   "source": [
    "fig = plt.figure(figsize=(12,5))\n",
    "plt.subplot(1, 2, 1)\n",
    "plt.plot(basic_log.history['loss'])\n",
    "plt.ylabel('train loss')\n",
    "plt.xlabel('epochs')\n",
    "\n",
    "plt.subplot(1, 2, 2)\n",
    "plt.plot(basic_log.history['sparse_categorical_accuracy'])\n",
    "plt.ylabel('training accuracy')\n",
    "plt.xlabel('epochs')\n",
    "plt.suptitle(\"Neural Network Training Progress\\n\\n\")\n",
    "plt.tight_layout()\n",
    "plt.show()"
   ]
  },
  {
   "cell_type": "code",
   "execution_count": 13,
   "metadata": {},
   "outputs": [
    {
     "name": "stdout",
     "output_type": "stream",
     "text": [
      "       loss  sparse_categorical_accuracy\n",
      "0  0.420310                     0.843582\n",
      "1  0.402639                     0.846273\n",
      "2  0.398873                     0.847234\n",
      "3  0.396979                     0.848485\n",
      "4  0.396160                     0.849017\n",
      "5  0.395620                     0.849013\n",
      "6  0.395015                     0.849200\n",
      "7  0.394787                     0.849106\n",
      "8  0.394651                     0.849500\n",
      "9  0.394544                     0.849175\n"
     ]
    }
   ],
   "source": [
    "print(pd.DataFrame(basic_log.history))"
   ]
  },
  {
   "cell_type": "markdown",
   "metadata": {},
   "source": [
    "### At a first glance, these results don't look too bad! The training accuracy is almost 85% after only 10 epochs!\n",
    "### Let's dive a bit deeper into the types of predictions our model is making using a confusion matrix and see what we can find..."
   ]
  },
  {
   "cell_type": "code",
   "execution_count": 14,
   "metadata": {},
   "outputs": [],
   "source": [
    "from sklearn.metrics import confusion_matrix\n",
    "\n",
    "#We'll be using seaborn to plot the confusion matrix for visual clarity\n",
    "import seaborn as sns"
   ]
  },
  {
   "cell_type": "code",
   "execution_count": 15,
   "metadata": {},
   "outputs": [],
   "source": [
    "predictions = basic_model.predict(X_test)\n",
    "prediction_classes = np.argmax(predictions, axis=1)\n",
    "conf_matrix = confusion_matrix(y_test, prediction_classes)"
   ]
  },
  {
   "cell_type": "code",
   "execution_count": 16,
   "metadata": {
    "scrolled": true
   },
   "outputs": [
    {
     "data": {
      "image/png": "[encoded data removed]",
      "text/plain": [
       "<Figure size 432x288 with 2 Axes>"
      ]
     },
     "metadata": {
      "needs_background": "light"
     },
     "output_type": "display_data"
    }
   ],
   "source": [
    "ax = sns.heatmap(conf_matrix, annot=True, cmap='Blues')\n",
    "\n",
    "ax.set_title('Seaborn Confusion Matrix\\n');\n",
    "ax.set_xlabel('\\nPredicted Values')\n",
    "ax.set_ylabel('Actual Values ');\n",
    "\n",
    "## Display the visualization of the confusion matrix.\n",
    "plt.show()"
   ]
  },
  {
   "cell_type": "markdown",
   "metadata": {},
   "source": [
    "### Ahh, this makes sense... Not only is our model never predicting 1, but it is rarely predicting diabetes in those who are actually diabetic! This could be very bad in giving people a false sense of security when they are at risk!\n",
    "### In all fairness, this is quite the expected outcome since non-diabetic is around 84% of the datset we are using. If you think about it, our model could be ~84% accurate just by only ever predicting that the patient isn't diabetic whilst ignoring the data entirely. This is a problem!"
   ]
  },
  {
   "cell_type": "markdown",
   "metadata": {},
   "source": [
    "### From a conceptual standpoint of the problem that we're trying to solve with this project (predicting likelihood of diabetes and best improvements to reduce risk), I think that is worth chopping this data down to a binary representation of either non-diabetic or diabetic for the following reasons:\n",
    "1. Prediabetes/pregnant diabetes (1.0) is extremely under-represented. We can address this with upsampling, but it is quite significantly behind the others and it would make the model less accurate at predicting 0.0 and 2.0\n",
    "2. As hinted above, keeping a third class would almost certainly make our model worse at predicting the other two classes, which is likely not worth it if the scenario is naturally uncommon in the first place\n",
    "3. Since we are looking to identify and analyze risk of diabetes (2.0) anyways, we actually don't mind if the grey area between 0.0 and 2.0 gets muddied a bit anyways - it will actually likely help us draw a more liberal estimate of when an individual is at risk \n",
    "\n",
    "### Considering all of the above, let's narrow our data down to 6,000 rows each of 0.0 and 2.0 labels. This will balance out the bias and since we're only using 12,000 rows instead of 246,000 and our training will be quicker at the expense of what is likely to be a slightly lower accuracy. This is fine, since we're planning on seeking the best model possible before we do the *real* training"
   ]
  },
  {
   "cell_type": "code",
   "execution_count": 17,
   "metadata": {},
   "outputs": [
    {
     "name": "stdout",
     "output_type": "stream",
     "text": [
      "(213703, 22)\n",
      "(35346, 22)\n"
     ]
    }
   ],
   "source": [
    "df_0 = df[df.Diabetes_012 == 0.0]\n",
    "df_2 = df[df.Diabetes_012 == 2.0]\n",
    "\n",
    "#Print the shapes just to ensure everything looks correct\n",
    "print(df_0.shape)\n",
    "print(df_2.shape)"
   ]
  },
  {
   "cell_type": "code",
   "execution_count": 18,
   "metadata": {},
   "outputs": [
    {
     "name": "stdout",
     "output_type": "stream",
     "text": [
      "(12000, 22)\n",
      "1.0    6000\n",
      "0.0    6000\n",
      "Name: Diabetes_01, dtype: int64\n"
     ]
    },
    {
     "name": "stderr",
     "output_type": "stream",
     "text": [
      "C:\\Users\\Jake\\anaconda3\\lib\\site-packages\\pandas\\core\\indexing.py:576: SettingWithCopyWarning: \n",
      "A value is trying to be set on a copy of a slice from a DataFrame.\n",
      "Try using .loc[row_indexer,col_indexer] = value instead\n",
      "\n",
      "See the caveats in the documentation: http://pandas.pydata.org/pandas-docs/stable/user_guide/indexing.html#returning-a-view-versus-a-copy\n",
      "  self.obj[item_labels[indexer[info_axis]]] = value\n"
     ]
    }
   ],
   "source": [
    "#We don't actually want to be using 0.0 and 2.0 as our labels in a binary solution, so let's change the 2.0s to 1.0s\n",
    "#df_2.loc[:, \"Diabetes_012\"].replace(2.0, 1.0, inplace=True)\n",
    "#TODO: This keeps raising a SettingWithCopyWarning despite using the exact notation that the warning\n",
    "#suggests, try revisiting this at a later time.\n",
    "df_2.loc[:, \"Diabetes_012\"] = 1.0\n",
    "\n",
    "#Now let's combine the two parts to make our \"balanced\" dataset\n",
    "df_balanced = pd.concat([df_0[:6000], df_2[:6000]])\n",
    "\n",
    "#Since we are no longer using three classes, let's change the column name to represent this\n",
    "df_balanced.rename(columns={\"Diabetes_012\": \"Diabetes_01\"}, inplace=True)\n",
    "\n",
    "#Print the shape and value counts to ensure our final product is what we were aiming for\n",
    "print(df_balanced.shape)\n",
    "print(df_balanced[\"Diabetes_01\"].value_counts())"
   ]
  },
  {
   "cell_type": "markdown",
   "metadata": {},
   "source": [
    "### Now we must keep in mind that 1.0 no longer represents prediabetes/pregnant with diabetes, but instead just represents diabetes.\n",
    "### Moving on, let's use sklearn to arrange our test/train splits. We'll use 80% of our data for training and the remaining 20% to test with again."
   ]
  },
  {
   "cell_type": "code",
   "execution_count": 19,
   "metadata": {},
   "outputs": [],
   "source": [
    "X = df_balanced.drop(columns=[\"Diabetes_01\"])\n",
    "y = df_balanced[\"Diabetes_01\"]\n",
    "\n",
    "#Split X and y into test and train splits using sklearn\n",
    "X_train, X_test, y_train, y_test = train_test_split(X, y, test_size=0.20)"
   ]
  },
  {
   "cell_type": "markdown",
   "metadata": {},
   "source": [
    "### We'll clear and rebuild the basic model to see how the data adjustments have affected our results. We'll make a couple small changes to the output layer to account for the fact that we've changed the problem to a binary one."
   ]
  },
  {
   "cell_type": "code",
   "execution_count": 20,
   "metadata": {},
   "outputs": [],
   "source": [
    "#TODO: I'm honestly still not certain if this clear_session is mandatory or not. Investigate this.\n",
    "import tensorflow.keras.backend as backend"
   ]
  },
  {
   "cell_type": "code",
   "execution_count": 21,
   "metadata": {},
   "outputs": [],
   "source": [
    "backend.clear_session()\n",
    "\n",
    "#This basic model will have only one hidden layer, and the nodes within\n",
    "#it will just be the average of the nodes in the input and output layers.\n",
    "basic_model = models.Sequential([\n",
    "        layers.Input(shape=(21,)),\n",
    "        layers.Dense(12, activation='relu'),\n",
    "        layers.Dense(2, activation='sigmoid') #Size of 2 for binary and sigmoid instead of softmax activation\n",
    "    ])\n",
    "\n",
    "basic_model.compile(\n",
    "    loss=losses.sparse_categorical_crossentropy,\n",
    "    optimizer=optimizers.Adam(0.001),\n",
    "    metrics = ['sparse_categorical_accuracy'],\n",
    ")"
   ]
  },
  {
   "cell_type": "code",
   "execution_count": 22,
   "metadata": {},
   "outputs": [
    {
     "name": "stdout",
     "output_type": "stream",
     "text": [
      "Epoch 1/10\n",
      "300/300 [==============================] - 0s 452us/step - loss: 0.7896 - sparse_categorical_accuracy: 0.5871\n",
      "Epoch 2/10\n",
      "300/300 [==============================] - 0s 485us/step - loss: 0.6079 - sparse_categorical_accuracy: 0.6759\n",
      "Epoch 3/10\n",
      "300/300 [==============================] - 0s 435us/step - loss: 0.5879 - sparse_categorical_accuracy: 0.6913\n",
      "Epoch 4/10\n",
      "300/300 [==============================] - 0s 428us/step - loss: 0.5749 - sparse_categorical_accuracy: 0.7040\n",
      "Epoch 5/10\n",
      "300/300 [==============================] - 0s 427us/step - loss: 0.5700 - sparse_categorical_accuracy: 0.7088\n",
      "Epoch 6/10\n",
      "300/300 [==============================] - 0s 432us/step - loss: 0.5657 - sparse_categorical_accuracy: 0.7076\n",
      "Epoch 7/10\n",
      "300/300 [==============================] - 0s 439us/step - loss: 0.5654 - sparse_categorical_accuracy: 0.7065\n",
      "Epoch 8/10\n",
      "300/300 [==============================] - 0s 445us/step - loss: 0.5615 - sparse_categorical_accuracy: 0.7152\n",
      "Epoch 9/10\n",
      "300/300 [==============================] - 0s 432us/step - loss: 0.5587 - sparse_categorical_accuracy: 0.7128\n",
      "Epoch 10/10\n",
      "300/300 [==============================] - 0s 432us/step - loss: 0.5587 - sparse_categorical_accuracy: 0.7146\n"
     ]
    }
   ],
   "source": [
    "basic_log = basic_model.fit(X_train, y_train, epochs=10, verbose=True)"
   ]
  },
  {
   "cell_type": "markdown",
   "metadata": {},
   "source": [
    "### Well, that training was certainly a LOT faster, but our accuracy went down! What gives?"
   ]
  },
  {
   "cell_type": "code",
   "execution_count": 23,
   "metadata": {},
   "outputs": [
    {
     "data": {
      "image/png": "[encoded data removed]",
      "text/plain": [
       "<Figure size 432x288 with 2 Axes>"
      ]
     },
     "metadata": {
      "needs_background": "light"
     },
     "output_type": "display_data"
    }
   ],
   "source": [
    "predictions = basic_model.predict(X_test)\n",
    "prediction_classes = np.argmax(predictions, axis=1)\n",
    "conf_matrix = confusion_matrix(y_test, prediction_classes)\n",
    "\n",
    "ax = sns.heatmap(conf_matrix, annot=True, cmap='Blues')\n",
    "\n",
    "ax.set_title('Seaborn Confusion Matrix\\n');\n",
    "ax.set_xlabel('\\nPredicted Values')\n",
    "ax.set_ylabel('Actual Values ');\n",
    "\n",
    "## Display the visualization of the confusion matrix.\n",
    "plt.show()"
   ]
  },
  {
   "cell_type": "code",
   "execution_count": 24,
   "metadata": {},
   "outputs": [
    {
     "name": "stdout",
     "output_type": "stream",
     "text": [
      "[[746 462]\n",
      " [231 961]]\n",
      "0.8062080536912751\n"
     ]
    }
   ],
   "source": [
    "print(conf_matrix)\n",
    "\n",
    "recall = (conf_matrix[1][1] / (conf_matrix[1][0] + conf_matrix[1][1]))\n",
    "print(recall)"
   ]
  },
  {
   "cell_type": "markdown",
   "metadata": {},
   "source": [
    "### Wow, that looks WAY better. The darker colours fall along the diagonal where predicted values and actual values align, which very clearly demonstrates that our model is actually making a real effort to predict diabetes now! It may only be ~71% accurate (on the training data), but this is a much more realistic set of predictions. Ideally, if we can make the bottom right corner (diabetic) slightly darker, this can be really effective for our ambitions. As I've printed above, recall score is actually incredibly important for us, because we really want to minimize the amount of cases where we predict that a diabetic patient is actually not diabetic.\n",
    "\n",
    "### Since the model seems at least somewhat reputable, let's check some more metrics on the test data to get some more baselines. This time we'll use sklearn and verify what we calculated manually for recall score as well to ensure we're seeking the right optimizations."
   ]
  },
  {
   "cell_type": "code",
   "execution_count": 25,
   "metadata": {},
   "outputs": [],
   "source": [
    "from sklearn.metrics import accuracy_score, precision_score, recall_score, f1_score"
   ]
  },
  {
   "cell_type": "code",
   "execution_count": 26,
   "metadata": {},
   "outputs": [
    {
     "name": "stdout",
     "output_type": "stream",
     "text": [
      "   Model_Name  Test_Accuracy  Test_Precision  Test_Recall  Test_F1\n",
      "0  sequential        0.71125        0.675334     0.806208  0.73499\n"
     ]
    }
   ],
   "source": [
    "metrics = []\n",
    "\n",
    "metrics.append([\n",
    "    basic_model.name,\n",
    "    accuracy_score(y_test, prediction_classes),\n",
    "    precision_score(y_test, prediction_classes),\n",
    "    recall_score(y_test, prediction_classes),\n",
    "    f1_score(y_test, prediction_classes)\n",
    "])\n",
    "        \n",
    "metrics_df = pd.DataFrame(metrics)\n",
    "metrics_df.columns = ['Model_Name', 'Test_Accuracy', 'Test_Precision', 'Test_Recall', 'Test_F1']\n",
    "\n",
    "print(metrics_df)\n",
    "\n",
    "#Saving these metrics for side-by-side comparison down the road.\n",
    "basic_model_metrics = metrics_df"
   ]
  },
  {
   "cell_type": "markdown",
   "metadata": {},
   "source": [
    "### The recall matches our calculations, and now that we have a reasonable baseline that we can aim to beat, let's try to make a better model. In the pursuit of minimizing guesswork, the first thing I'd like to do is sample a diverse range of models with 3 hidden layers instead of 1 and varying amounts of nodes. If we find one that performs well, we can pursue further optimizations to that architecture."
   ]
  },
  {
   "cell_type": "code",
   "execution_count": 27,
   "metadata": {},
   "outputs": [
    {
     "name": "stdout",
     "output_type": "stream",
     "text": [
      "[32, 64, 96, 128]\n",
      "\n",
      "[[32, 64, 96, 128], [32, 64, 96, 128], [32, 64, 96, 128]]\n"
     ]
    }
   ],
   "source": [
    "#Setting up some parameters to help me generate all of the configurations for testing\n",
    "num_layers = 3 # I want this many hidden layers\n",
    "min_nodes_per_layer = 32\n",
    "max_nodes_per_layer = 128\n",
    "node_step_size = 32\n",
    "\n",
    "node_possibilities = list(range(\n",
    "    min_nodes_per_layer, \n",
    "    max_nodes_per_layer + 1, \n",
    "    node_step_size\n",
    "))\n",
    "\n",
    "#Print the possibilities for one layer\n",
    "print(node_possibilities)\n",
    "\n",
    "print()\n",
    "#If we have 3 hidden layers, our possibilities will look more like:\n",
    "three_layer_possibilities = [node_possibilities, node_possibilities, node_possibilities]\n",
    "print(three_layer_possibilities)"
   ]
  },
  {
   "cell_type": "code",
   "execution_count": 28,
   "metadata": {},
   "outputs": [],
   "source": [
    "#We'll use an iteration tool to find all of the possible permutations\n",
    "import itertools"
   ]
  },
  {
   "cell_type": "code",
   "execution_count": 29,
   "metadata": {},
   "outputs": [
    {
     "name": "stdout",
     "output_type": "stream",
     "text": [
      "[(32, 32, 32), (32, 32, 64), (32, 32, 96), (32, 32, 128), (32, 64, 32), (32, 64, 64), (32, 64, 96), (32, 64, 128), (32, 96, 32), (32, 96, 64)]\n"
     ]
    }
   ],
   "source": [
    "layer_possibilities = [node_possibilities] * num_layers\n",
    "layer_node_permutations = list(itertools.product(*three_layer_possibilities))\n",
    "\n",
    "#Print just a handfull of the permutations to ensure that they're\n",
    "#as we'd expect\n",
    "print(layer_node_permutations[:10])"
   ]
  },
  {
   "cell_type": "code",
   "execution_count": 30,
   "metadata": {},
   "outputs": [],
   "source": [
    "#Now we can finally start to build all of the models\n",
    "models_list = []\n",
    "\n",
    "for permutation in layer_node_permutations:\n",
    "    model = tf.keras.Sequential()\n",
    "    model.add(tf.keras.layers.InputLayer(input_shape=(21,)))\n",
    "    model_name = ''\n",
    "    \n",
    "    for nodes_at_layer in permutation:\n",
    "        model.add(tf.keras.layers.Dense(nodes_at_layer, activation='relu'))\n",
    "        model_name += f'dense{nodes_at_layer}_'\n",
    "        \n",
    "    model.add(layers.Dense(2, activation='sigmoid'))\n",
    "    model._name = model_name[:-1]\n",
    "    \n",
    "    models_list.append(model)"
   ]
  },
  {
   "cell_type": "code",
   "execution_count": 31,
   "metadata": {},
   "outputs": [
    {
     "name": "stdout",
     "output_type": "stream",
     "text": [
      "Model: \"dense32_dense96_dense64\"\n",
      "_________________________________________________________________\n",
      "Layer (type)                 Output Shape              Param #   \n",
      "=================================================================\n",
      "dense_38 (Dense)             (None, 32)                704       \n",
      "_________________________________________________________________\n",
      "dense_39 (Dense)             (None, 96)                3168      \n",
      "_________________________________________________________________\n",
      "dense_40 (Dense)             (None, 64)                6208      \n",
      "_________________________________________________________________\n",
      "dense_41 (Dense)             (None, 2)                 130       \n",
      "=================================================================\n",
      "Total params: 10,210\n",
      "Trainable params: 10,210\n",
      "Non-trainable params: 0\n",
      "_________________________________________________________________\n"
     ]
    }
   ],
   "source": [
    "#Let's check in on the 10th model to ensure that everything looks correct:\n",
    "models_list[9].summary()"
   ]
  },
  {
   "cell_type": "markdown",
   "metadata": {},
   "source": [
    "### Everything looks good for the model we sampled, now let's actually compile and train them all!"
   ]
  },
  {
   "cell_type": "code",
   "execution_count": 32,
   "metadata": {},
   "outputs": [
    {
     "name": "stdout",
     "output_type": "stream",
     "text": [
      "100.0 % complete    \r"
     ]
    }
   ],
   "source": [
    "results = []\n",
    "metrics = []\n",
    "progress = 0\n",
    "\n",
    "for model in models_list:\n",
    "        try:\n",
    "            model.compile(\n",
    "                loss=losses.sparse_categorical_crossentropy,\n",
    "                optimizer=optimizers.Adam(0.001),\n",
    "                metrics = ['sparse_categorical_accuracy'],\n",
    "            )\n",
    "            print(((progress + 1)/len(models_list)) * 100, \"% complete  \\r\",end='')\n",
    "            log = model.fit(X_train, y_train, epochs=10, verbose=False)\n",
    "            res = log.history\n",
    "            results.append(res)\n",
    "            \n",
    "            #Now we'll add in some lines to gather metrics from the model using the test data\n",
    "            predictions = model.predict(X_test)\n",
    "            prediction_classes = np.argmax(predictions, axis=1)\n",
    "\n",
    "            metrics.append([\n",
    "                model.name,\n",
    "                accuracy_score(y_test, prediction_classes),\n",
    "                precision_score(y_test, prediction_classes),\n",
    "                recall_score(y_test, prediction_classes),\n",
    "                f1_score(y_test, prediction_classes)\n",
    "            ])\n",
    "        except Exception as e:\n",
    "            print(f'{model.name} --> {str(e)}')\n",
    "        progress += 1\n"
   ]
  },
  {
   "cell_type": "code",
   "execution_count": 33,
   "metadata": {},
   "outputs": [
    {
     "data": {
      "text/html": [
       "<div>\n",
       "<style scoped>\n",
       "    .dataframe tbody tr th:only-of-type {\n",
       "        vertical-align: middle;\n",
       "    }\n",
       "\n",
       "    .dataframe tbody tr th {\n",
       "        vertical-align: top;\n",
       "    }\n",
       "\n",
       "    .dataframe thead th {\n",
       "        text-align: right;\n",
       "    }\n",
       "</style>\n",
       "<table border=\"1\" class=\"dataframe\">\n",
       "  <thead>\n",
       "    <tr style=\"text-align: right;\">\n",
       "      <th></th>\n",
       "      <th>Model_Name</th>\n",
       "      <th>Test_Accuracy</th>\n",
       "      <th>Test_Precision</th>\n",
       "      <th>Test_Recall</th>\n",
       "      <th>Test_F1</th>\n",
       "    </tr>\n",
       "  </thead>\n",
       "  <tbody>\n",
       "    <tr>\n",
       "      <th>0</th>\n",
       "      <td>dense32_dense32_dense32</td>\n",
       "      <td>0.714167</td>\n",
       "      <td>0.680456</td>\n",
       "      <td>0.800336</td>\n",
       "      <td>0.735544</td>\n",
       "    </tr>\n",
       "    <tr>\n",
       "      <th>1</th>\n",
       "      <td>dense32_dense32_dense64</td>\n",
       "      <td>0.717083</td>\n",
       "      <td>0.686275</td>\n",
       "      <td>0.792785</td>\n",
       "      <td>0.735695</td>\n",
       "    </tr>\n",
       "    <tr>\n",
       "      <th>2</th>\n",
       "      <td>dense32_dense32_dense96</td>\n",
       "      <td>0.697083</td>\n",
       "      <td>0.708895</td>\n",
       "      <td>0.661913</td>\n",
       "      <td>0.684599</td>\n",
       "    </tr>\n",
       "    <tr>\n",
       "      <th>3</th>\n",
       "      <td>dense32_dense32_dense128</td>\n",
       "      <td>0.714167</td>\n",
       "      <td>0.682540</td>\n",
       "      <td>0.793624</td>\n",
       "      <td>0.733902</td>\n",
       "    </tr>\n",
       "    <tr>\n",
       "      <th>4</th>\n",
       "      <td>dense32_dense64_dense32</td>\n",
       "      <td>0.714583</td>\n",
       "      <td>0.673988</td>\n",
       "      <td>0.823826</td>\n",
       "      <td>0.741412</td>\n",
       "    </tr>\n",
       "  </tbody>\n",
       "</table>\n",
       "</div>"
      ],
      "text/plain": [
       "                 Model_Name  Test_Accuracy  Test_Precision  Test_Recall  \\\n",
       "0   dense32_dense32_dense32       0.714167        0.680456     0.800336   \n",
       "1   dense32_dense32_dense64       0.717083        0.686275     0.792785   \n",
       "2   dense32_dense32_dense96       0.697083        0.708895     0.661913   \n",
       "3  dense32_dense32_dense128       0.714167        0.682540     0.793624   \n",
       "4   dense32_dense64_dense32       0.714583        0.673988     0.823826   \n",
       "\n",
       "    Test_F1  \n",
       "0  0.735544  \n",
       "1  0.735695  \n",
       "2  0.684599  \n",
       "3  0.733902  \n",
       "4  0.741412  "
      ]
     },
     "execution_count": 33,
     "metadata": {},
     "output_type": "execute_result"
    }
   ],
   "source": [
    "metrics_df = pd.DataFrame(metrics)\n",
    "metrics_df.columns = ['Model_Name', 'Test_Accuracy', 'Test_Precision', 'Test_Recall', 'Test_F1']\n",
    "\n",
    "metrics_df.head()"
   ]
  },
  {
   "cell_type": "code",
   "execution_count": 34,
   "metadata": {},
   "outputs": [
    {
     "data": {
      "text/html": [
       "<div>\n",
       "<style scoped>\n",
       "    .dataframe tbody tr th:only-of-type {\n",
       "        vertical-align: middle;\n",
       "    }\n",
       "\n",
       "    .dataframe tbody tr th {\n",
       "        vertical-align: top;\n",
       "    }\n",
       "\n",
       "    .dataframe thead th {\n",
       "        text-align: right;\n",
       "    }\n",
       "</style>\n",
       "<table border=\"1\" class=\"dataframe\">\n",
       "  <thead>\n",
       "    <tr style=\"text-align: right;\">\n",
       "      <th></th>\n",
       "      <th>Model_Name</th>\n",
       "      <th>Test_Accuracy</th>\n",
       "      <th>Test_Precision</th>\n",
       "      <th>Test_Recall</th>\n",
       "      <th>Test_F1</th>\n",
       "    </tr>\n",
       "  </thead>\n",
       "  <tbody>\n",
       "    <tr>\n",
       "      <th>53</th>\n",
       "      <td>dense128_dense64_dense64</td>\n",
       "      <td>0.701667</td>\n",
       "      <td>0.644945</td>\n",
       "      <td>0.888423</td>\n",
       "      <td>0.747354</td>\n",
       "    </tr>\n",
       "    <tr>\n",
       "      <th>29</th>\n",
       "      <td>dense64_dense128_dense64</td>\n",
       "      <td>0.703333</td>\n",
       "      <td>0.647059</td>\n",
       "      <td>0.885906</td>\n",
       "      <td>0.747875</td>\n",
       "    </tr>\n",
       "    <tr>\n",
       "      <th>59</th>\n",
       "      <td>dense128_dense96_dense128</td>\n",
       "      <td>0.710000</td>\n",
       "      <td>0.655194</td>\n",
       "      <td>0.878356</td>\n",
       "      <td>0.750538</td>\n",
       "    </tr>\n",
       "    <tr>\n",
       "      <th>38</th>\n",
       "      <td>dense96_dense64_dense96</td>\n",
       "      <td>0.711250</td>\n",
       "      <td>0.656623</td>\n",
       "      <td>0.877517</td>\n",
       "      <td>0.751167</td>\n",
       "    </tr>\n",
       "    <tr>\n",
       "      <th>48</th>\n",
       "      <td>dense128_dense32_dense32</td>\n",
       "      <td>0.711667</td>\n",
       "      <td>0.657233</td>\n",
       "      <td>0.876678</td>\n",
       "      <td>0.751258</td>\n",
       "    </tr>\n",
       "    <tr>\n",
       "      <th>...</th>\n",
       "      <td>...</td>\n",
       "      <td>...</td>\n",
       "      <td>...</td>\n",
       "      <td>...</td>\n",
       "      <td>...</td>\n",
       "    </tr>\n",
       "    <tr>\n",
       "      <th>50</th>\n",
       "      <td>dense128_dense32_dense96</td>\n",
       "      <td>0.703333</td>\n",
       "      <td>0.708333</td>\n",
       "      <td>0.684564</td>\n",
       "      <td>0.696246</td>\n",
       "    </tr>\n",
       "    <tr>\n",
       "      <th>2</th>\n",
       "      <td>dense32_dense32_dense96</td>\n",
       "      <td>0.697083</td>\n",
       "      <td>0.708895</td>\n",
       "      <td>0.661913</td>\n",
       "      <td>0.684599</td>\n",
       "    </tr>\n",
       "    <tr>\n",
       "      <th>23</th>\n",
       "      <td>dense64_dense64_dense128</td>\n",
       "      <td>0.688333</td>\n",
       "      <td>0.729339</td>\n",
       "      <td>0.592282</td>\n",
       "      <td>0.653704</td>\n",
       "    </tr>\n",
       "    <tr>\n",
       "      <th>17</th>\n",
       "      <td>dense64_dense32_dense64</td>\n",
       "      <td>0.676667</td>\n",
       "      <td>0.734234</td>\n",
       "      <td>0.546980</td>\n",
       "      <td>0.626923</td>\n",
       "    </tr>\n",
       "    <tr>\n",
       "      <th>10</th>\n",
       "      <td>dense32_dense96_dense96</td>\n",
       "      <td>0.664167</td>\n",
       "      <td>0.718326</td>\n",
       "      <td>0.532718</td>\n",
       "      <td>0.611753</td>\n",
       "    </tr>\n",
       "  </tbody>\n",
       "</table>\n",
       "<p>64 rows × 5 columns</p>\n",
       "</div>"
      ],
      "text/plain": [
       "                   Model_Name  Test_Accuracy  Test_Precision  Test_Recall  \\\n",
       "53   dense128_dense64_dense64       0.701667        0.644945     0.888423   \n",
       "29   dense64_dense128_dense64       0.703333        0.647059     0.885906   \n",
       "59  dense128_dense96_dense128       0.710000        0.655194     0.878356   \n",
       "38    dense96_dense64_dense96       0.711250        0.656623     0.877517   \n",
       "48   dense128_dense32_dense32       0.711667        0.657233     0.876678   \n",
       "..                        ...            ...             ...          ...   \n",
       "50   dense128_dense32_dense96       0.703333        0.708333     0.684564   \n",
       "2     dense32_dense32_dense96       0.697083        0.708895     0.661913   \n",
       "23   dense64_dense64_dense128       0.688333        0.729339     0.592282   \n",
       "17    dense64_dense32_dense64       0.676667        0.734234     0.546980   \n",
       "10    dense32_dense96_dense96       0.664167        0.718326     0.532718   \n",
       "\n",
       "     Test_F1  \n",
       "53  0.747354  \n",
       "29  0.747875  \n",
       "59  0.750538  \n",
       "38  0.751167  \n",
       "48  0.751258  \n",
       "..       ...  \n",
       "50  0.696246  \n",
       "2   0.684599  \n",
       "23  0.653704  \n",
       "17  0.626923  \n",
       "10  0.611753  \n",
       "\n",
       "[64 rows x 5 columns]"
      ]
     },
     "execution_count": 34,
     "metadata": {},
     "output_type": "execute_result"
    }
   ],
   "source": [
    "metrics_df.sort_values(by='Test_Recall', ascending=False)"
   ]
  },
  {
   "cell_type": "code",
   "execution_count": 35,
   "metadata": {},
   "outputs": [
    {
     "name": "stdout",
     "output_type": "stream",
     "text": [
      "Model_Name        dense128_dense64_dense64\n",
      "Test_Accuracy                     0.701667\n",
      "Test_Precision                    0.644945\n",
      "Test_Recall                       0.888423\n",
      "Test_F1                           0.747354\n",
      "Name: 53, dtype: object\n",
      "\n",
      "(128, 64, 64)\n"
     ]
    }
   ],
   "source": [
    "best_model_index = metrics_df['Test_Recall'].idxmax()\n",
    "print(metrics_df.loc[best_model_index])\n",
    "print()\n",
    "print(layer_node_permutations[best_model_index])"
   ]
  },
  {
   "cell_type": "code",
   "execution_count": 36,
   "metadata": {},
   "outputs": [
    {
     "name": "stdout",
     "output_type": "stream",
     "text": [
      "   Model_Name  Test_Accuracy  Test_Precision  Test_Recall  Test_F1\n",
      "0  sequential        0.71125        0.675334     0.806208  0.73499\n"
     ]
    }
   ],
   "source": [
    "print(basic_model_metrics)"
   ]
  },
  {
   "cell_type": "markdown",
   "metadata": {},
   "source": [
    "### As we can see, the recall of the best model from our sampling is much better (92% compared to only 74%), but there is still some room for improvement as our test precision is considerably lower. I'm happy that recall is better, and that is most important, but it doesn't hurt to aim for a better model overall.\n",
    "\n",
    "### Let's take the same features our best model had and build a new one where we optimize the learning rate."
   ]
  },
  {
   "cell_type": "code",
   "execution_count": 37,
   "metadata": {},
   "outputs": [],
   "source": [
    "#TODO: Can I duplicate the model or copy the weights discovered from \n",
    "#the previous exploration instead of rebuilding a model with the same features?\n",
    "\n",
    "#This model is based on our findings above, and features 3 hidden layers\n",
    "best_model = models.Sequential([\n",
    "        layers.Input(shape=(21,)),\n",
    "        layers.Dense(layer_node_permutations[best_model_index][0], activation='relu'),\n",
    "        layers.Dense(layer_node_permutations[best_model_index][1], activation='relu'),\n",
    "        layers.Dense(layer_node_permutations[best_model_index][2], activation='relu'),\n",
    "        layers.Dense(2, activation='sigmoid')\n",
    "    ])\n",
    "\n",
    "best_model.compile(\n",
    "    loss=losses.sparse_categorical_crossentropy,\n",
    "    optimizer=optimizers.Adam(),\n",
    "    metrics = ['sparse_categorical_accuracy'],\n",
    ")"
   ]
  },
  {
   "cell_type": "code",
   "execution_count": 38,
   "metadata": {},
   "outputs": [
    {
     "name": "stdout",
     "output_type": "stream",
     "text": [
      "Epoch 1/50\n",
      "300/300 [==============================] - 0s 690us/step - loss: 0.6054 - sparse_categorical_accuracy: 0.6693\n",
      "Epoch 2/50\n",
      "300/300 [==============================] - 0s 733us/step - loss: 0.5670 - sparse_categorical_accuracy: 0.6982\n",
      "Epoch 3/50\n",
      "300/300 [==============================] - 0s 713us/step - loss: 0.5624 - sparse_categorical_accuracy: 0.7083\n",
      "Epoch 4/50\n",
      "300/300 [==============================] - 0s 639us/step - loss: 0.5555 - sparse_categorical_accuracy: 0.7065\n",
      "Epoch 5/50\n",
      "300/300 [==============================] - 0s 639us/step - loss: 0.5538 - sparse_categorical_accuracy: 0.7113\n",
      "Epoch 6/50\n",
      "300/300 [==============================] - 0s 639us/step - loss: 0.5510 - sparse_categorical_accuracy: 0.7190\n",
      "Epoch 7/50\n",
      "300/300 [==============================] - 0s 643us/step - loss: 0.5529 - sparse_categorical_accuracy: 0.7154\n",
      "Epoch 8/50\n",
      "300/300 [==============================] - 0s 730us/step - loss: 0.5478 - sparse_categorical_accuracy: 0.7161\n",
      "Epoch 9/50\n",
      "300/300 [==============================] - 0s 636us/step - loss: 0.5461 - sparse_categorical_accuracy: 0.7211\n",
      "Epoch 10/50\n",
      "300/300 [==============================] - 0s 636us/step - loss: 0.5458 - sparse_categorical_accuracy: 0.7212\n",
      "Epoch 11/50\n",
      "300/300 [==============================] - 0s 639us/step - loss: 0.5487 - sparse_categorical_accuracy: 0.7221\n",
      "Epoch 12/50\n",
      "300/300 [==============================] - 0s 649us/step - loss: 0.5470 - sparse_categorical_accuracy: 0.7197\n",
      "Epoch 13/50\n",
      "300/300 [==============================] - 0s 686us/step - loss: 0.5440 - sparse_categorical_accuracy: 0.7295\n",
      "Epoch 14/50\n",
      "300/300 [==============================] - 0s 683us/step - loss: 0.5460 - sparse_categorical_accuracy: 0.7248\n",
      "Epoch 15/50\n",
      "300/300 [==============================] - 0s 623us/step - loss: 0.5442 - sparse_categorical_accuracy: 0.7266\n",
      "Epoch 16/50\n",
      "300/300 [==============================] - 0s 753us/step - loss: 0.5488 - sparse_categorical_accuracy: 0.7206\n",
      "Epoch 17/50\n",
      "300/300 [==============================] - 0s 686us/step - loss: 0.5413 - sparse_categorical_accuracy: 0.7248\n",
      "Epoch 18/50\n",
      "300/300 [==============================] - 0s 690us/step - loss: 0.5462 - sparse_categorical_accuracy: 0.7192\n",
      "Epoch 19/50\n",
      "300/300 [==============================] - 0s 716us/step - loss: 0.5444 - sparse_categorical_accuracy: 0.7264\n",
      "Epoch 20/50\n",
      "300/300 [==============================] - 0s 720us/step - loss: 0.5474 - sparse_categorical_accuracy: 0.7196\n",
      "Epoch 21/50\n",
      "300/300 [==============================] - 0s 649us/step - loss: 0.5447 - sparse_categorical_accuracy: 0.7232\n",
      "Epoch 22/50\n",
      "300/300 [==============================] - 0s 715us/step - loss: 0.5409 - sparse_categorical_accuracy: 0.7272\n",
      "Epoch 23/50\n",
      "300/300 [==============================] - 0s 683us/step - loss: 0.5449 - sparse_categorical_accuracy: 0.7248\n",
      "Epoch 24/50\n",
      "300/300 [==============================] - 0s 623us/step - loss: 0.5494 - sparse_categorical_accuracy: 0.7199\n",
      "Epoch 25/50\n",
      "300/300 [==============================] - 0s 626us/step - loss: 0.5583 - sparse_categorical_accuracy: 0.7185\n",
      "Epoch 26/50\n",
      "300/300 [==============================] - 0s 666us/step - loss: 0.5911 - sparse_categorical_accuracy: 0.6934\n",
      "Epoch 27/50\n",
      "300/300 [==============================] - 0s 636us/step - loss: 0.5649 - sparse_categorical_accuracy: 0.7092\n",
      "Epoch 28/50\n",
      "300/300 [==============================] - 0s 653us/step - loss: 0.5687 - sparse_categorical_accuracy: 0.7069\n",
      "Epoch 29/50\n",
      "300/300 [==============================] - 0s 636us/step - loss: 0.5497 - sparse_categorical_accuracy: 0.7186\n",
      "Epoch 30/50\n",
      "300/300 [==============================] - 0s 626us/step - loss: 0.5550 - sparse_categorical_accuracy: 0.7163\n",
      "Epoch 31/50\n",
      "300/300 [==============================] - 0s 636us/step - loss: 0.5595 - sparse_categorical_accuracy: 0.7132\n",
      "Epoch 32/50\n",
      "300/300 [==============================] - 0s 639us/step - loss: 0.5544 - sparse_categorical_accuracy: 0.7184\n",
      "Epoch 33/50\n",
      "300/300 [==============================] - 0s 649us/step - loss: 0.5757 - sparse_categorical_accuracy: 0.6957\n",
      "Epoch 34/50\n",
      "300/300 [==============================] - 0s 750us/step - loss: 0.5624 - sparse_categorical_accuracy: 0.7111\n",
      "Epoch 35/50\n",
      "300/300 [==============================] - 0s 792us/step - loss: 0.5704 - sparse_categorical_accuracy: 0.7061\n",
      "Epoch 36/50\n",
      "300/300 [==============================] - 0s 726us/step - loss: 0.5653 - sparse_categorical_accuracy: 0.7086\n",
      "Epoch 37/50\n",
      "300/300 [==============================] - 0s 645us/step - loss: 0.5846 - sparse_categorical_accuracy: 0.6938\n",
      "Epoch 38/50\n",
      "300/300 [==============================] - 0s 642us/step - loss: 0.5872 - sparse_categorical_accuracy: 0.6977\n",
      "Epoch 39/50\n",
      "300/300 [==============================] - 0s 643us/step - loss: 0.5972 - sparse_categorical_accuracy: 0.6998\n",
      "Epoch 40/50\n",
      "300/300 [==============================] - 0s 680us/step - loss: 0.5910 - sparse_categorical_accuracy: 0.6846\n",
      "Epoch 41/50\n",
      "300/300 [==============================] - 0s 629us/step - loss: 0.5986 - sparse_categorical_accuracy: 0.6812\n",
      "Epoch 42/50\n",
      "300/300 [==============================] - 0s 629us/step - loss: 0.6744 - sparse_categorical_accuracy: 0.5695\n",
      "Epoch 43/50\n",
      "300/300 [==============================] - 0s 738us/step - loss: 0.6963 - sparse_categorical_accuracy: 0.5017\n",
      "Epoch 44/50\n",
      "300/300 [==============================] - 0s 626us/step - loss: 0.6994 - sparse_categorical_accuracy: 0.4985\n",
      "Epoch 45/50\n",
      "300/300 [==============================] - 0s 693us/step - loss: 0.6998 - sparse_categorical_accuracy: 0.4994\n",
      "Epoch 46/50\n",
      "300/300 [==============================] - 0s 697us/step - loss: 0.7026 - sparse_categorical_accuracy: 0.5023\n",
      "Epoch 47/50\n",
      "300/300 [==============================] - 0s 682us/step - loss: 0.7007 - sparse_categorical_accuracy: 0.5019\n",
      "Epoch 48/50\n",
      "300/300 [==============================] - 0s 634us/step - loss: 0.7049 - sparse_categorical_accuracy: 0.4950\n",
      "Epoch 49/50\n",
      "300/300 [==============================] - 0s 667us/step - loss: 0.6999 - sparse_categorical_accuracy: 0.5033\n",
      "Epoch 50/50\n",
      "300/300 [==============================] - 0s 636us/step - loss: 0.7032 - sparse_categorical_accuracy: 0.5010\n"
     ]
    }
   ],
   "source": [
    "learning_rate_history = best_model.fit(\n",
    "    X_train,\n",
    "    y_train,\n",
    "    epochs=50,  #Since we know suspect this model to be a decent performer,\n",
    "                 #let's add some epochs to allow for more learning rate comparisons\n",
    "    callbacks=[\n",
    "        tf.keras.callbacks.LearningRateScheduler(\n",
    "            lambda epoch: 1e-3 * 10 ** (epoch / 20)\n",
    "            #Question: What happens if we reverse the \"direction\" of change?\n",
    "            #ie. start with high learning rate and end with low\n",
    "            #will the graph still look similar? is higher epoch benefitting\n",
    "            #from previous progress?\n",
    "        )\n",
    "    ]\n",
    ")"
   ]
  },
  {
   "cell_type": "code",
   "execution_count": 39,
   "metadata": {},
   "outputs": [
    {
     "data": {
      "image/png": "[encoded data removed]",
      "text/plain": [
       "<Figure size 1296x576 with 1 Axes>"
      ]
     },
     "metadata": {
      "needs_background": "light"
     },
     "output_type": "display_data"
    }
   ],
   "source": [
    "from matplotlib import rcParams\n",
    "rcParams['figure.figsize'] = (18, 8)\n",
    "rcParams['axes.spines.top'] = False\n",
    "rcParams['axes.spines.right'] = False \n",
    "\n",
    "plt.plot(\n",
    "    np.arange(1, 51), \n",
    "    learning_rate_history.history['loss'], \n",
    "    label='Loss', lw=3\n",
    ")\n",
    "plt.plot(\n",
    "    np.arange(1, 51), \n",
    "    learning_rate_history.history['sparse_categorical_accuracy'], \n",
    "    label='Accuracy', lw=3\n",
    ")\n",
    "plt.plot(\n",
    "    np.arange(1, 51), \n",
    "    learning_rate_history.history['lr'], \n",
    "    label='Learning rate', color='red', lw=3, linestyle='--'\n",
    ")\n",
    "plt.title('Evaluation metrics', size=20)\n",
    "plt.xlabel('Epoch', size=14)\n",
    "plt.legend();"
   ]
  },
  {
   "cell_type": "code",
   "execution_count": 40,
   "metadata": {},
   "outputs": [
    {
     "data": {
      "image/png": "[encoded data removed]",
      "text/plain": [
       "<Figure size 1296x576 with 1 Axes>"
      ]
     },
     "metadata": {
      "needs_background": "light"
     },
     "output_type": "display_data"
    }
   ],
   "source": [
    "learning_rates = 1e-3 * (10 ** (np.arange(50) / 20))\n",
    "\n",
    "plt.semilogx(\n",
    "    learning_rates, \n",
    "    learning_rate_history.history['loss'], \n",
    "    lw=3, color='red'\n",
    ")\n",
    "plt.title('Learning rate vs. loss', size=20)\n",
    "plt.xlabel('Learning rate', size=14)\n",
    "plt.ylabel('Loss', size=14);"
   ]
  },
  {
   "cell_type": "code",
   "execution_count": 41,
   "metadata": {},
   "outputs": [
    {
     "name": "stdout",
     "output_type": "stream",
     "text": [
      "0.5408924221992493\n",
      "21\n",
      "0.5408924221992493\n",
      "0.011220184543019636\n"
     ]
    }
   ],
   "source": [
    "print(min(learning_rate_history.history['loss']))\n",
    "minloc = np.argmin(learning_rate_history.history['loss'])\n",
    "print(minloc)\n",
    "print(learning_rate_history.history['loss'][minloc])\n",
    "print(learning_rates[minloc])"
   ]
  },
  {
   "cell_type": "code",
   "execution_count": 42,
   "metadata": {},
   "outputs": [],
   "source": [
    "backend.clear_session()\n",
    "\n",
    "#This basic model will have only one hidden layer, and the nodes within\n",
    "#it will just be the average of the nodes in the input and output layers.\n",
    "best_model = models.Sequential([\n",
    "        layers.Input(shape=(21,)),\n",
    "        layers.Dense(layer_node_permutations[best_model_index][0], activation='relu'),\n",
    "        layers.Dense(layer_node_permutations[best_model_index][1], activation='relu'),\n",
    "        layers.Dense(layer_node_permutations[best_model_index][2], activation='relu'),\n",
    "        layers.Dense(2, activation='sigmoid')\n",
    "    ])\n",
    "\n",
    "best_model.compile(\n",
    "    loss=losses.sparse_categorical_crossentropy,\n",
    "    #optimizer=optimizers.Adam(0.001),\n",
    "    optimizer=optimizers.Adam(learning_rates[minloc]),\n",
    "    metrics = ['sparse_categorical_accuracy'],\n",
    ")"
   ]
  },
  {
   "cell_type": "code",
   "execution_count": 43,
   "metadata": {},
   "outputs": [
    {
     "name": "stdout",
     "output_type": "stream",
     "text": [
      "Epoch 1/50\n",
      "300/300 [==============================] - 0s 726us/step - loss: 0.6439 - sparse_categorical_accuracy: 0.6691\n",
      "Epoch 2/50\n",
      "300/300 [==============================] - 0s 727us/step - loss: 0.5722 - sparse_categorical_accuracy: 0.7009\n",
      "Epoch 3/50\n",
      "300/300 [==============================] - 0s 693us/step - loss: 0.5674 - sparse_categorical_accuracy: 0.7077\n",
      "Epoch 4/50\n",
      "300/300 [==============================] - 0s 643us/step - loss: 0.5599 - sparse_categorical_accuracy: 0.7120\n",
      "Epoch 5/50\n",
      "300/300 [==============================] - 0s 629us/step - loss: 0.5615 - sparse_categorical_accuracy: 0.7141\n",
      "Epoch 6/50\n",
      "300/300 [==============================] - 0s 637us/step - loss: 0.5534 - sparse_categorical_accuracy: 0.7206\n",
      "Epoch 7/50\n",
      "300/300 [==============================] - 0s 636us/step - loss: 0.5539 - sparse_categorical_accuracy: 0.7158\n",
      "Epoch 8/50\n",
      "300/300 [==============================] - 0s 629us/step - loss: 0.5486 - sparse_categorical_accuracy: 0.7222\n",
      "Epoch 9/50\n",
      "300/300 [==============================] - 0s 639us/step - loss: 0.5510 - sparse_categorical_accuracy: 0.7206\n",
      "Epoch 10/50\n",
      "300/300 [==============================] - 0s 649us/step - loss: 0.5482 - sparse_categorical_accuracy: 0.7170\n",
      "Epoch 11/50\n",
      "300/300 [==============================] - 0s 636us/step - loss: 0.5467 - sparse_categorical_accuracy: 0.7200\n",
      "Epoch 12/50\n",
      "300/300 [==============================] - 0s 649us/step - loss: 0.5443 - sparse_categorical_accuracy: 0.7278\n",
      "Epoch 13/50\n",
      "300/300 [==============================] - 0s 633us/step - loss: 0.5447 - sparse_categorical_accuracy: 0.7236\n",
      "Epoch 14/50\n",
      "300/300 [==============================] - 0s 693us/step - loss: 0.5425 - sparse_categorical_accuracy: 0.7264\n",
      "Epoch 15/50\n",
      "300/300 [==============================] - 0s 633us/step - loss: 0.5425 - sparse_categorical_accuracy: 0.7236\n",
      "Epoch 16/50\n",
      "300/300 [==============================] - 0s 636us/step - loss: 0.5382 - sparse_categorical_accuracy: 0.7279\n",
      "Epoch 17/50\n",
      "300/300 [==============================] - 0s 676us/step - loss: 0.5387 - sparse_categorical_accuracy: 0.7278\n",
      "Epoch 18/50\n",
      "300/300 [==============================] - 0s 677us/step - loss: 0.5406 - sparse_categorical_accuracy: 0.7266\n",
      "Epoch 19/50\n",
      "300/300 [==============================] - 0s 694us/step - loss: 0.5388 - sparse_categorical_accuracy: 0.7261\n",
      "Epoch 20/50\n",
      "300/300 [==============================] - 0s 683us/step - loss: 0.5379 - sparse_categorical_accuracy: 0.7297\n",
      "Epoch 21/50\n",
      "300/300 [==============================] - 0s 706us/step - loss: 0.5374 - sparse_categorical_accuracy: 0.7296\n",
      "Epoch 22/50\n",
      "300/300 [==============================] - 0s 716us/step - loss: 0.5346 - sparse_categorical_accuracy: 0.7303\n",
      "Epoch 23/50\n",
      "300/300 [==============================] - 0s 664us/step - loss: 0.5410 - sparse_categorical_accuracy: 0.7224\n",
      "Epoch 24/50\n",
      "300/300 [==============================] - 0s 659us/step - loss: 0.5353 - sparse_categorical_accuracy: 0.7325\n",
      "Epoch 25/50\n",
      "300/300 [==============================] - 0s 649us/step - loss: 0.5338 - sparse_categorical_accuracy: 0.7273\n",
      "Epoch 26/50\n",
      "300/300 [==============================] - 0s 726us/step - loss: 0.5369 - sparse_categorical_accuracy: 0.7259\n",
      "Epoch 27/50\n",
      "300/300 [==============================] - 0s 732us/step - loss: 0.5376 - sparse_categorical_accuracy: 0.7307\n",
      "Epoch 28/50\n",
      "300/300 [==============================] - 0s 638us/step - loss: 0.5347 - sparse_categorical_accuracy: 0.7278\n",
      "Epoch 29/50\n",
      "300/300 [==============================] - 0s 746us/step - loss: 0.5336 - sparse_categorical_accuracy: 0.7280\n",
      "Epoch 30/50\n",
      "300/300 [==============================] - 0s 696us/step - loss: 0.5394 - sparse_categorical_accuracy: 0.7286\n",
      "Epoch 31/50\n",
      "300/300 [==============================] - 0s 659us/step - loss: 0.5357 - sparse_categorical_accuracy: 0.7278\n",
      "Epoch 32/50\n",
      "300/300 [==============================] - 0s 646us/step - loss: 0.5355 - sparse_categorical_accuracy: 0.7259\n",
      "Epoch 33/50\n",
      "300/300 [==============================] - 0s 639us/step - loss: 0.5335 - sparse_categorical_accuracy: 0.7316\n",
      "Epoch 34/50\n",
      "300/300 [==============================] - 0s 653us/step - loss: 0.5329 - sparse_categorical_accuracy: 0.7293\n",
      "Epoch 35/50\n",
      "300/300 [==============================] - 0s 632us/step - loss: 0.5340 - sparse_categorical_accuracy: 0.7286\n",
      "Epoch 36/50\n",
      "300/300 [==============================] - 0s 653us/step - loss: 0.5394 - sparse_categorical_accuracy: 0.7274\n",
      "Epoch 37/50\n",
      "300/300 [==============================] - 0s 666us/step - loss: 0.5338 - sparse_categorical_accuracy: 0.7292\n",
      "Epoch 38/50\n",
      "300/300 [==============================] - 0s 658us/step - loss: 0.5352 - sparse_categorical_accuracy: 0.7245\n",
      "Epoch 39/50\n",
      "300/300 [==============================] - 0s 666us/step - loss: 0.5322 - sparse_categorical_accuracy: 0.7304\n",
      "Epoch 40/50\n",
      "300/300 [==============================] - 0s 633us/step - loss: 0.5343 - sparse_categorical_accuracy: 0.7302\n",
      "Epoch 41/50\n",
      "300/300 [==============================] - 0s 639us/step - loss: 0.5322 - sparse_categorical_accuracy: 0.7329\n",
      "Epoch 42/50\n",
      "300/300 [==============================] - 0s 649us/step - loss: 0.5319 - sparse_categorical_accuracy: 0.7312\n",
      "Epoch 43/50\n",
      "300/300 [==============================] - 0s 659us/step - loss: 0.5342 - sparse_categorical_accuracy: 0.7318\n",
      "Epoch 44/50\n",
      "300/300 [==============================] - 0s 649us/step - loss: 0.5351 - sparse_categorical_accuracy: 0.7294\n",
      "Epoch 45/50\n",
      "300/300 [==============================] - 0s 649us/step - loss: 0.5375 - sparse_categorical_accuracy: 0.7283\n",
      "Epoch 46/50\n",
      "300/300 [==============================] - 0s 626us/step - loss: 0.5313 - sparse_categorical_accuracy: 0.7332\n",
      "Epoch 47/50\n",
      "300/300 [==============================] - 0s 629us/step - loss: 0.5331 - sparse_categorical_accuracy: 0.7334\n",
      "Epoch 48/50\n",
      "300/300 [==============================] - 0s 683us/step - loss: 0.5308 - sparse_categorical_accuracy: 0.7256\n",
      "Epoch 49/50\n",
      "300/300 [==============================] - 0s 653us/step - loss: 0.5303 - sparse_categorical_accuracy: 0.7347\n",
      "Epoch 50/50\n",
      "300/300 [==============================] - 0s 703us/step - loss: 0.5317 - sparse_categorical_accuracy: 0.7295\n"
     ]
    }
   ],
   "source": [
    "best_log = best_model.fit(X_train, y_train, epochs=50, verbose=True)"
   ]
  },
  {
   "cell_type": "code",
   "execution_count": 44,
   "metadata": {},
   "outputs": [
    {
     "data": {
      "image/png": "[encoded data removed]",
      "text/plain": [
       "<Figure size 1296x576 with 2 Axes>"
      ]
     },
     "metadata": {
      "needs_background": "light"
     },
     "output_type": "display_data"
    }
   ],
   "source": [
    "predictions = best_model.predict(X_test)\n",
    "prediction_classes = np.argmax(predictions, axis=1)\n",
    "conf_matrix = confusion_matrix(y_test, prediction_classes)\n",
    "\n",
    "ax = sns.heatmap(conf_matrix, annot=True, cmap='Blues')\n",
    "\n",
    "ax.set_title('Seaborn Confusion Matrix\\n');\n",
    "ax.set_xlabel('\\nPredicted Values')\n",
    "ax.set_ylabel('Actual Values ');\n",
    "\n",
    "## Display the visualization of the confusion matrix.\n",
    "plt.show()"
   ]
  },
  {
   "cell_type": "code",
   "execution_count": 45,
   "metadata": {},
   "outputs": [
    {
     "name": "stdout",
     "output_type": "stream",
     "text": [
      "   Model_Name  Test_Accuracy  Test_Precision  Test_Recall   Test_F1\n",
      "0  sequential       0.728333        0.690141     0.822148  0.750383\n"
     ]
    }
   ],
   "source": [
    "best_metrics = []\n",
    "\n",
    "best_metrics.append([\n",
    "    best_model.name,\n",
    "    accuracy_score(y_test, prediction_classes),\n",
    "    precision_score(y_test, prediction_classes),\n",
    "    recall_score(y_test, prediction_classes),\n",
    "    f1_score(y_test, prediction_classes)\n",
    "])\n",
    "        \n",
    "best_metrics_df = pd.DataFrame(best_metrics)\n",
    "best_metrics_df.columns = ['Model_Name', 'Test_Accuracy', 'Test_Precision', 'Test_Recall', 'Test_F1']\n",
    "\n",
    "print(best_metrics_df)\n",
    "\n",
    "#Saving these metrics for side-by-side comparison down the road.\n",
    "best_model_metrics = best_metrics_df"
   ]
  },
  {
   "cell_type": "markdown",
   "metadata": {},
   "source": [
    "TODO: Revisit this cell after further optimizations above\n",
    "### Now that we have a model we're somewhat satisfied with, let's apply it to the solution we proposed earlier, which we'll break down into two parts:\n",
    "  1. We'd like to use our model to predict an individual's likelihood of being diabetic. \n",
    "  2. Whether they are or not, I think it would be even more helpful if we could give them the top three ranking lifestyle changes that they could make to reduce their risk. \n",
    "### *Important*: #2 should be customized for each individual's circumstances, and not based on overall statistics pulled from the entire dataset."
   ]
  },
  {
   "cell_type": "markdown",
   "metadata": {},
   "source": [
    "### Starting with number 1, let's take a peek at the 0th \"patient\" from our test dataset and use our model to come up with a prediction."
   ]
  },
  {
   "cell_type": "code",
   "execution_count": 46,
   "metadata": {},
   "outputs": [
    {
     "name": "stdout",
     "output_type": "stream",
     "text": [
      "HighBP                   1.0\n",
      "HighChol                 1.0\n",
      "CholCheck                1.0\n",
      "BMI                     26.0\n",
      "Smoker                   1.0\n",
      "Stroke                   0.0\n",
      "HeartDiseaseorAttack     0.0\n",
      "PhysActivity             0.0\n",
      "Fruits                   0.0\n",
      "Veggies                  0.0\n",
      "HvyAlcoholConsump        0.0\n",
      "AnyHealthcare            0.0\n",
      "NoDocbcCost              0.0\n",
      "GenHlth                  3.0\n",
      "MentHlth                 0.0\n",
      "PhysHlth                 0.0\n",
      "DiffWalk                 0.0\n",
      "Sex                      0.0\n",
      "Age                      7.0\n",
      "Education                5.0\n",
      "Income                   1.0\n",
      "Name: 7117, dtype: float64\n"
     ]
    }
   ],
   "source": [
    "print(X_test.iloc[0])"
   ]
  },
  {
   "cell_type": "code",
   "execution_count": 47,
   "metadata": {},
   "outputs": [
    {
     "name": "stdout",
     "output_type": "stream",
     "text": [
      "0    0.524391\n",
      "1    0.548341\n",
      "Name: 0, dtype: float32\n"
     ]
    }
   ],
   "source": [
    "print(pd.DataFrame(best_model.predict(X_test)).iloc[0])"
   ]
  },
  {
   "cell_type": "markdown",
   "metadata": {},
   "source": [
    "### As we can see above, our model would predict 0, or non-diabetic, for patient 0 as that entry has the highest value for that row.\n",
    "### Now, we should aim to see how we can change this to either reduce the confidence of a 1 or increase the confidence of a 0. To do this, let's take a look at the columns and decide on some that can be adjusted with lifestyle changes."
   ]
  },
  {
   "cell_type": "code",
   "execution_count": 48,
   "metadata": {},
   "outputs": [
    {
     "name": "stdout",
     "output_type": "stream",
     "text": [
      "Index(['HighBP', 'HighChol', 'CholCheck', 'BMI', 'Smoker', 'Stroke',\n",
      "       'HeartDiseaseorAttack', 'PhysActivity', 'Fruits', 'Veggies',\n",
      "       'HvyAlcoholConsump', 'AnyHealthcare', 'NoDocbcCost', 'GenHlth',\n",
      "       'MentHlth', 'PhysHlth', 'DiffWalk', 'Sex', 'Age', 'Education',\n",
      "       'Income'],\n",
      "      dtype='object')\n"
     ]
    }
   ],
   "source": [
    "print(X.columns)"
   ]
  },
  {
   "cell_type": "code",
   "execution_count": 49,
   "metadata": {},
   "outputs": [],
   "source": [
    "lifestyleColumns = ['HighBP', 'HighChol', 'BMI',\n",
    "                    'Smoker', 'PhysActivity', 'Fruits',\n",
    "                    'Veggies', 'HvyAlcoholConsump', 'AnyHealthcare']"
   ]
  },
  {
   "cell_type": "markdown",
   "metadata": {},
   "source": [
    "### Above, I've decided on some columns that can be either directly (such as fruit/veggie consumption) or indirectly (such as BMI) changed via lifestyle adjustments. This is honestly kind of subjective, and some of it is certainly up to debate but I don't feel that income is a reasonable adjustment to be advised of, for example.\n",
    "### With these columns in mind, my goal is to make a list of patients identical to patient 0, but each with only 1 different parameter from the original.\n",
    "### It's worth noting that when making this list, we mustn't assume whether a factor's resulting impact is negative or positive in either direction. Instead, we should just let the model determine that for us. Because of this, I'm comfortable with flipping the factor's value from a 0.0 to 1.0 or vice-versa, even if it means it's setting a variable in a direction that's traditionally thought of as more negative, such as the blood pressure factor to high instead of low. We will see the impact of this later."
   ]
  },
  {
   "cell_type": "code",
   "execution_count": 50,
   "metadata": {},
   "outputs": [
    {
     "name": "stdout",
     "output_type": "stream",
     "text": [
      "   HighBP  HighChol  CholCheck   BMI  Smoker  Stroke  HeartDiseaseorAttack  \\\n",
      "0     1.0       1.0        1.0  26.0     1.0     0.0                   0.0   \n",
      "1     0.0       1.0        1.0  26.0     1.0     0.0                   0.0   \n",
      "2     1.0       0.0        1.0  26.0     1.0     0.0                   0.0   \n",
      "3     1.0       1.0        1.0  23.4     1.0     0.0                   0.0   \n",
      "4     1.0       1.0        1.0  26.0     0.0     0.0                   0.0   \n",
      "5     1.0       1.0        1.0  26.0     1.0     0.0                   0.0   \n",
      "6     1.0       1.0        1.0  26.0     1.0     0.0                   0.0   \n",
      "7     1.0       1.0        1.0  26.0     1.0     0.0                   0.0   \n",
      "8     1.0       1.0        1.0  26.0     1.0     0.0                   0.0   \n",
      "9     1.0       1.0        1.0  26.0     1.0     0.0                   0.0   \n",
      "\n",
      "   PhysActivity  Fruits  Veggies  ...  AnyHealthcare  NoDocbcCost  GenHlth  \\\n",
      "0           0.0     0.0      0.0  ...            0.0          0.0      3.0   \n",
      "1           0.0     0.0      0.0  ...            0.0          0.0      3.0   \n",
      "2           0.0     0.0      0.0  ...            0.0          0.0      3.0   \n",
      "3           0.0     0.0      0.0  ...            0.0          0.0      3.0   \n",
      "4           0.0     0.0      0.0  ...            0.0          0.0      3.0   \n",
      "5           1.0     0.0      0.0  ...            0.0          0.0      3.0   \n",
      "6           0.0     1.0      0.0  ...            0.0          0.0      3.0   \n",
      "7           0.0     0.0      1.0  ...            0.0          0.0      3.0   \n",
      "8           0.0     0.0      0.0  ...            0.0          0.0      3.0   \n",
      "9           0.0     0.0      0.0  ...            1.0          0.0      3.0   \n",
      "\n",
      "   MentHlth  PhysHlth  DiffWalk  Sex  Age  Education  Income  \n",
      "0       0.0       0.0       0.0  0.0  7.0        5.0     1.0  \n",
      "1       0.0       0.0       0.0  0.0  7.0        5.0     1.0  \n",
      "2       0.0       0.0       0.0  0.0  7.0        5.0     1.0  \n",
      "3       0.0       0.0       0.0  0.0  7.0        5.0     1.0  \n",
      "4       0.0       0.0       0.0  0.0  7.0        5.0     1.0  \n",
      "5       0.0       0.0       0.0  0.0  7.0        5.0     1.0  \n",
      "6       0.0       0.0       0.0  0.0  7.0        5.0     1.0  \n",
      "7       0.0       0.0       0.0  0.0  7.0        5.0     1.0  \n",
      "8       0.0       0.0       0.0  0.0  7.0        5.0     1.0  \n",
      "9       0.0       0.0       0.0  0.0  7.0        5.0     1.0  \n",
      "\n",
      "[10 rows x 21 columns]\n"
     ]
    }
   ],
   "source": [
    "selectedPatient = X_test.iloc[0]\n",
    "patientChanges = [selectedPatient]\n",
    "\n",
    "for factor in lifestyleColumns:\n",
    "    tmpPatient = selectedPatient.copy()\n",
    "    if (factor == 'BMI'):\n",
    "        tmpPatient[factor] -= (0.1 * tmpPatient[factor]) \n",
    "    else:\n",
    "        if (tmpPatient[factor] == 0.0):\n",
    "            tmpPatient[factor] = 1.0\n",
    "        elif (tmpPatient[factor] == 1.0):\n",
    "            tmpPatient[factor] = 0.0\n",
    "        else:\n",
    "            print(\" -----  nothing happened -----  \")\n",
    "    patientChanges.append(tmpPatient)\n",
    "    \n",
    "print(pd.DataFrame(patientChanges, index=np.arange(0, 10)))"
   ]
  },
  {
   "cell_type": "markdown",
   "metadata": {},
   "source": [
    "### With this list of theoretical patients, let's run some predictions using our model"
   ]
  },
  {
   "cell_type": "code",
   "execution_count": 51,
   "metadata": {},
   "outputs": [
    {
     "name": "stdout",
     "output_type": "stream",
     "text": [
      "          0         1\n",
      "0  0.524391  0.548341\n",
      "1  0.582076  0.474689\n",
      "2  0.577518  0.479588\n",
      "3  0.539018  0.522257\n",
      "4  0.518824  0.558184\n",
      "5  0.529047  0.540069\n",
      "6  0.508946  0.575515\n",
      "7  0.528206  0.541567\n",
      "8  0.632578  0.419738\n",
      "9  0.522788  0.551180\n"
     ]
    }
   ],
   "source": [
    "patientResults = pd.DataFrame(best_model.predict(pd.DataFrame(patientChanges)))\n",
    "print(patientResults)"
   ]
  },
  {
   "cell_type": "markdown",
   "metadata": {},
   "source": [
    "### In all of the rows where the value in column 1 is greater than that of column 2, the prediction is that said patient is diabetic. Remember that row 0 represents the actual patient we took from the data, or our baseline. With that in mind, how could we best measure the improvement or decline in someone's likelihood of being diabetic?\n",
    "  1. We could measure the increase in column 0 compared to the baseline\n",
    "  2. We could measure the decrease in column 0 compared to the baseline\n",
    "  3. We can measure the difference in the delta between 0 and 1 compared to the baseline.\n",
    "### Ideas 1 and 2 are easy to come up with and very simple overall, but I like idea 3 as it measures from both angles to get what I believe to be the most true representation of the gain or loss in our model predicting non-diabetic. Let's implement that now."
   ]
  },
  {
   "cell_type": "code",
   "execution_count": 52,
   "metadata": {},
   "outputs": [
    {
     "name": "stdout",
     "output_type": "stream",
     "text": [
      "          0         1     Delta  Delta Difference    LifestyleChange\n",
      "0  0.524391  0.548341  0.023950          0.000000           Baseline\n",
      "1  0.582076  0.474689 -0.107387         -0.131337             HighBP\n",
      "2  0.577518  0.479588 -0.097931         -0.121881           HighChol\n",
      "3  0.539018  0.522257 -0.016761         -0.040711                BMI\n",
      "4  0.518824  0.558184  0.039360          0.015410             Smoker\n",
      "5  0.529047  0.540069  0.011022         -0.012929       PhysActivity\n",
      "6  0.508946  0.575515  0.066569          0.042619             Fruits\n",
      "7  0.528206  0.541567  0.013362         -0.010589            Veggies\n",
      "8  0.632578  0.419738 -0.212840         -0.236791  HvyAlcoholConsump\n",
      "9  0.522788  0.551180  0.028393          0.004442      AnyHealthcare\n"
     ]
    }
   ],
   "source": [
    "#Find the delta between confidence of diabetic vs non-diabetic prediction\n",
    "patientResults['Delta'] = patientResults[1] - patientResults[0]\n",
    "\n",
    "#Compare the delta of each row to baseline (row 0) to get our metric\n",
    "patientResults['Delta Difference'] = patientResults['Delta'] - patientResults['Delta'].iloc[0]\n",
    "\n",
    "#Add in a label to indicate which variable was edited for each hypothetical patient\n",
    "#Note: I'm re-declaring lifestyleColumns because re-running this cell would otherwise\n",
    "#add another \"baseline\" to the list and mess with our proper indexing\n",
    "lifestyleColumns = ['HighBP', 'HighChol', 'BMI',\n",
    "                    'Smoker', 'PhysActivity', 'Fruits',\n",
    "                    'Veggies', 'HvyAlcoholConsump', 'AnyHealthcare']\n",
    "rowLabels = [\"Baseline\"] + lifestyleColumns\n",
    "patientResults['LifestyleChange'] = rowLabels\n",
    "\n",
    "print(patientResults)"
   ]
  },
  {
   "cell_type": "markdown",
   "metadata": {},
   "source": [
    "### Okay, now that we have the numbers in front of us how should we interpret this? Well, the \"Delta\" column represents column 1 - column 0, therefore the lower the number for that column is, the better. A very low \"Delta\" means that the model would be far more confident in predicting non-diabetic than diabetic, which is good for the patient!\n",
    "### Delta Difference, then, is representing how the current row's Delta compares to the baseline. Once again, since we've subtracted the baseline from the current row, a lower number is better here. Let's sort with that in mind and make some observations."
   ]
  },
  {
   "cell_type": "code",
   "execution_count": 53,
   "metadata": {},
   "outputs": [
    {
     "name": "stdout",
     "output_type": "stream",
     "text": [
      "          0         1     Delta  Delta Difference    LifestyleChange\n",
      "8  0.632578  0.419738 -0.212840         -0.236791  HvyAlcoholConsump\n",
      "1  0.582076  0.474689 -0.107387         -0.131337             HighBP\n",
      "2  0.577518  0.479588 -0.097931         -0.121881           HighChol\n",
      "3  0.539018  0.522257 -0.016761         -0.040711                BMI\n",
      "5  0.529047  0.540069  0.011022         -0.012929       PhysActivity\n",
      "7  0.528206  0.541567  0.013362         -0.010589            Veggies\n",
      "0  0.524391  0.548341  0.023950          0.000000           Baseline\n",
      "9  0.522788  0.551180  0.028393          0.004442      AnyHealthcare\n",
      "4  0.518824  0.558184  0.039360          0.015410             Smoker\n",
      "6  0.508946  0.575515  0.066569          0.042619             Fruits\n"
     ]
    }
   ],
   "source": [
    "patientResultsSorted = patientResults.sort_values(by=['Delta Difference'])\n",
    "print(patientResultsSorted)"
   ]
  },
  {
   "cell_type": "markdown",
   "metadata": {},
   "source": [
    "### It may look a little weird that changing the patient's HighBP column resulted in a higher likelihood of diabetes, but remember that we arranged our patient list such that the value would be flipped. Thus, the HighBP column could have been false and been swapped to true, for example.\n",
    "TODO: Fix below statement - prediction may change with rerun\n",
    "### Apart from that, it could be said that based on our model's predictions, the three lifestyle changes that would most greatly reduce the patient's risk of diabetes would be changing their high cholesterol status, changing their heavy alcohol consumption habits, and reducing their BMI by a factor of 10%. More specifically, we can check what the original values for these columns were to decide which direction they should shift in."
   ]
  },
  {
   "cell_type": "code",
   "execution_count": 54,
   "metadata": {},
   "outputs": [
    {
     "name": "stdout",
     "output_type": "stream",
     "text": [
      "HvyAlcoholConsump Original Value: 0.0\n",
      "HighBP Original Value: 0.0\n",
      "HighChol Original Value: 0.0\n",
      "\n",
      "8\n"
     ]
    }
   ],
   "source": [
    "change1 = patientResultsSorted[\"LifestyleChange\"].iloc[0]\n",
    "change2 = patientResultsSorted[\"LifestyleChange\"].iloc[1]\n",
    "change3 = patientResultsSorted[\"LifestyleChange\"].iloc[2]\n",
    "print(\"{} Original Value: \".format(change1) + str(patientChanges[0][change1]))\n",
    "print(\"{} Original Value: \".format(change2) + str(patientChanges[1][change2]))\n",
    "print(\"{} Original Value: \".format(change3) + str(patientChanges[2][change3]))\n",
    "\n",
    "print()\n",
    "#print index of best change\n",
    "print(patientResultsSorted.iloc[0].name)"
   ]
  },
  {
   "cell_type": "markdown",
   "metadata": {},
   "source": [
    "### Using the above information, we can print a nice little statement for the given patient that provides them with the main takeaways that our model generates."
   ]
  },
  {
   "cell_type": "code",
   "execution_count": 55,
   "metadata": {},
   "outputs": [
    {
     "name": "stdout",
     "output_type": "stream",
     "text": [
      "Based on our deep learning model, the recommended lifestyle \n",
      "changes to reduce diabetes risk for the selected patient are: \n",
      "\n",
      "1: HvyAlcoholConsump from 0.0 to 1.0, with a change in likelihood of -0.23679068684577942\n",
      "2: HighBP from 1.0 to 0.0, with a change in likelihood of -0.1313372552394867\n",
      "3: HighChol from 1.0 to 0.0, with a change in likelihood of -0.12188112735748291\n"
     ]
    }
   ],
   "source": [
    "print(\"Based on our deep learning model, the recommended lifestyle \\nchanges to reduce diabetes risk for the selected patient are: \\n\")\n",
    "print(\"1: {} from {} to {}, with a change in likelihood of {}\".format((change1),(patientChanges[0][change1]),\n",
    "    (patientChanges[patientResultsSorted.iloc[0].name][change1]),(patientResultsSorted['Delta Difference'].iloc[0])))\n",
    "print(\"2: {} from {} to {}, with a change in likelihood of {}\".format((change2),(patientChanges[0][change2]),\n",
    "    (patientChanges[patientResultsSorted.iloc[1].name][change2]),(patientResultsSorted['Delta Difference'].iloc[1])))\n",
    "print(\"3: {} from {} to {}, with a change in likelihood of {}\".format((change3),(patientChanges[0][change3]),\n",
    "    (patientChanges[patientResultsSorted.iloc[2].name][change3]),(patientResultsSorted['Delta Difference'].iloc[2])))"
   ]
  },
  {
   "cell_type": "markdown",
   "metadata": {},
   "source": [
    "### Now all that's left for us is to package this more nicely into a single function instead of working piecewise across multiple cells and put in some quality of life changes, such as not recommending things that worsen the likelihood of diabetes (for example, in a patient who would see no improvements from any lifestyle changes) "
   ]
  },
  {
   "cell_type": "code",
   "execution_count": 56,
   "metadata": {},
   "outputs": [],
   "source": [
    "def patientAdvice(patient, model=best_model):\n",
    "    #Initialize an empty array of theoretical patients\n",
    "    patientChanges = []\n",
    "    \n",
    "    #Add the selected patient to the array of patients -- this will serve as our\n",
    "    #baseline patient, with no changes to their current set of features\n",
    "    patientChanges.append(patient)\n",
    "    \n",
    "    #Iterate over each of the features that are changeable (lifestyle),\n",
    "    #and create a theoretical patient as if they were to have made only that change\n",
    "    lifestyleColumns = ['HighBP', 'HighChol', 'BMI', 'Smoker', 'PhysActivity', 'Fruits', 'Veggies', 'HvyAlcoholConsump', 'AnyHealthcare']\n",
    "    for factor in lifestyleColumns:\n",
    "        tmpPatient = patient.copy()\n",
    "        if (factor == 'BMI'):\n",
    "            tmpPatient[factor] -= (0.1 * tmpPatient[factor]) \n",
    "        else:\n",
    "            if (tmpPatient[factor] == 0.0):\n",
    "                tmpPatient[factor] = 1.0\n",
    "            elif (tmpPatient[factor] == 1.0):\n",
    "                tmpPatient[factor] = 0.0\n",
    "            else:\n",
    "                # TODO: Change to try/catch with error statement\n",
    "                print(\" -----  nothing happened -----  \")\n",
    "        patientChanges.append(tmpPatient)\n",
    "\n",
    "    \n",
    "    #This will be used to align our generated output with the proper labels so we can identify the changes\n",
    "    rowNames = ['Baseline', 'HighBP', 'HighChol', 'BMI', 'Smoker', 'PhysActivity', 'Fruits', 'Veggies', 'HvyAlcoholConsump', 'AnyHealthcare']\n",
    "    \n",
    "    #Use our model to predict the likelihood of diabetes in each of the theoretical patients\n",
    "    patientResults = pd.DataFrame(model.predict(pd.DataFrame(patientChanges)))\n",
    "    #Find the delta between confidence of diabetic vs non-diabetic prediction\n",
    "    patientResults['Delta'] = patientResults[1] - patientResults[0]\n",
    "\n",
    "    #Compare the delta of each row to baseline (row 0) to get our metric\n",
    "    patientResults['Delta Difference'] = patientResults['Delta'] - patientResults['Delta'].iloc[0]\n",
    "    \n",
    "    #Add in a label to indicate which variable was edited for each hypothetical patient\n",
    "    #Note: I'm re-declaring lifestyleColumns because re-running this cell would otherwise\n",
    "    #add another \"baseline\" to the list and mess with our proper indexing\n",
    "    lifestyleColumns = ['HighBP', 'HighChol', 'BMI',\n",
    "                        'Smoker', 'PhysActivity', 'Fruits',\n",
    "                        'Veggies', 'HvyAlcoholConsump', 'AnyHealthcare']\n",
    "    rowLabels = [\"Baseline\"] + lifestyleColumns\n",
    "    patientResults['LifestyleChange'] = rowLabels\n",
    "    \n",
    "    #Sort the result by change in risk and output useful information\n",
    "    patientResultsSorted = patientResults.sort_values(by=['Delta Difference'])\n",
    "    print(patientResultsSorted)\n",
    "    change1 = patientResultsSorted[\"LifestyleChange\"].iloc[0]\n",
    "    change2 = patientResultsSorted[\"LifestyleChange\"].iloc[1]\n",
    "    change3 = patientResultsSorted[\"LifestyleChange\"].iloc[2]\n",
    "    print(\"\")\n",
    "    if ((patientResultsSorted['Delta Difference'].iloc[0]) < 0.0):\n",
    "        print(\"Based on our deep learning model, the recommended lifestyle \\nchanges to reduce diabetes risk for the selected patient are: \\n\")\n",
    "        print(\"1: {} from {} to {}, with a change in likelihood of {}\".format((change1),(patientChanges[0][change1]),\n",
    "            (patientChanges[patientResultsSorted.iloc[0].name][change1]),(patientResultsSorted['Delta Difference'].iloc[0])))\n",
    "        if ((patientResultsSorted['Delta Difference'].iloc[1]) < 0.0):\n",
    "            print(\"2: {} from {} to {}, with a change in likelihood of {}\".format((change2),(patientChanges[0][change2]),\n",
    "                (patientChanges[patientResultsSorted.iloc[1].name][change2]),(patientResultsSorted['Delta Difference'].iloc[1])))\n",
    "            if ((patientResultsSorted['Delta Difference'].iloc[2]) < 0.0):\n",
    "                print(\"3: {} from {} to {}, with a change in likelihood of {}\".format((change3),(patientChanges[0][change3]),\n",
    "                (patientChanges[patientResultsSorted.iloc[2].name][change3]),(patientResultsSorted['Delta Difference'].iloc[2])))\n",
    "    else:\n",
    "        print(\"Congratulations! According to our model, there are no recommended improvements to the given patient's\"\n",
    "              \" current lifestyle that would decrease their likelihood of diabetes!\")"
   ]
  },
  {
   "cell_type": "code",
   "execution_count": 57,
   "metadata": {},
   "outputs": [
    {
     "name": "stdout",
     "output_type": "stream",
     "text": [
      "          0         1     Delta  Delta Difference    LifestyleChange\n",
      "8  0.481302  0.622896  0.141594         -0.147673  HvyAlcoholConsump\n",
      "1  0.458623  0.660253  0.201630         -0.087637             HighBP\n",
      "2  0.456629  0.663463  0.206835         -0.082432           HighChol\n",
      "3  0.441516  0.687364  0.245847         -0.043420                BMI\n",
      "6  0.439496  0.690499  0.251003         -0.038264             Fruits\n",
      "4  0.429780  0.705380  0.275600         -0.013667             Smoker\n",
      "9  0.425892  0.711238  0.285346         -0.003921      AnyHealthcare\n",
      "0  0.424321  0.713588  0.289267          0.000000           Baseline\n",
      "7  0.420588  0.719139  0.298551          0.009284            Veggies\n",
      "5  0.419765  0.720355  0.300591          0.011324       PhysActivity\n",
      "\n",
      "Based on our deep learning model, the recommended lifestyle \n",
      "changes to reduce diabetes risk for the selected patient are: \n",
      "\n",
      "1: HvyAlcoholConsump from 0.0 to 1.0, with a change in likelihood of -0.14767315983772278\n",
      "2: HighBP from 1.0 to 0.0, with a change in likelihood of -0.08763709664344788\n",
      "3: HighChol from 1.0 to 0.0, with a change in likelihood of -0.08243224024772644\n"
     ]
    }
   ],
   "source": [
    "patientAdvice(X_test.iloc[1])"
   ]
  },
  {
   "cell_type": "markdown",
   "metadata": {},
   "source": [
    "### You may be surprised to see that depending which patient you run the predictions on, there can be some... concerning... recommendations. Things that are normally considered unhealthy, such as being a heavy drinker, can be suggested as a means to reduce diabetes risk. This is likely because the model doesn't know the difference between correlation and causation, and human intervention is needed at this point to seek a deeper understanding of what the results mean. \n",
    "### For example, if you took a group of individuals with diabetes and asked them if they regularly ate pancakes for breakfast, their answer would likely be no because the lifestyle changes that they need to make to accomodate for their diabetes may include reducing sugar intake. This does not mean that more individuals become diabetic from eating less pancakes, but the model may interpret it this way. "
   ]
  },
  {
   "cell_type": "code",
   "execution_count": null,
   "metadata": {},
   "outputs": [],
   "source": []
  }
 ],
 "metadata": {
  "kernelspec": {
   "display_name": "Python 3",
   "language": "python",
   "name": "python3"
  },
  "language_info": {
   "codemirror_mode": {
    "name": "ipython",
    "version": 3
   },
   "file_extension": ".py",
   "mimetype": "text/x-python",
   "name": "python",
   "nbconvert_exporter": "python",
   "pygments_lexer": "ipython3",
   "version": "3.8.3"
  }
 },
 "nbformat": 4,
 "nbformat_minor": 2
}
